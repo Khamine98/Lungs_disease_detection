{
  "cells": [
    {
      "cell_type": "code",
      "execution_count": null,
      "metadata": {
        "id": "_pfxD9B8_eiQ"
      },
      "outputs": [],
      "source": [
        "import io\n",
        "import pandas as pd\n",
        "import numpy as np\n",
        "from sklearn.feature_selection import SelectKBest\n",
        "from sklearn.feature_selection import chi2\n",
        "from sklearn.feature_selection import f_classif\n",
        "import matplotlib.pyplot as plt\n",
        "import seaborn as sns\n",
        "from sklearn.preprocessing import StandardScaler\n",
        "from sklearn.naive_bayes import GaussianNB\n",
        "from sklearn.metrics import accuracy_score,confusion_matrix\n",
        "from sklearn.neighbors import KNeighborsClassifier\n",
        "from sklearn.tree import DecisionTreeClassifier\n",
        "from google.colab import files\n",
        "import warnings\n",
        "from sklearn.model_selection import train_test_split\n",
        "from sklearn.neighbors import KNeighborsClassifier \n",
        "from sklearn.metrics import classification_report, confusion_matrix, plot_confusion_matrix\n",
        "from sklearn import svm\n",
        "from sklearn.linear_model import LogisticRegression\n",
        "from sklearn.ensemble import AdaBoostClassifier, GradientBoostingClassifier\n",
        "from sklearn.ensemble import BaggingClassifier, RandomForestClassifier\n",
        "from sklearn.neural_network import MLPClassifier\n",
        "from sklearn.model_selection import GridSearchCV\n",
        "from imblearn.over_sampling import SMOTENC\n",
        "from sklearn.ensemble import StackingClassifier\n",
        "warnings.filterwarnings('ignore')\n",
        "pd.set_option('display.max_rows', 500)\n",
        "pd.set_option('display.max_columns', 500)\n",
        "pd.set_option('display.width', 1000)"
      ]
    },
    {
      "cell_type": "code",
      "execution_count": null,
      "metadata": {
        "colab": {
          "base_uri": "https://localhost:8080/",
          "height": 74,
          "resources": {
            "http://localhost:8080/nbextensions/google.colab/files.js": {
              "data": "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",
              "headers": [
                [
                  "content-type",
                  "application/javascript"
                ]
              ],
              "ok": true,
              "status": 200,
              "status_text": ""
            }
          }
        },
        "id": "4VA1fuLoB1iK",
        "outputId": "32d04c6d-55dc-4c7e-e4ac-649b805d2edb"
      },
      "outputs": [
        {
          "output_type": "display_data",
          "data": {
            "text/plain": [
              "<IPython.core.display.HTML object>"
            ],
            "text/html": [
              "\n",
              "     <input type=\"file\" id=\"files-66a33d60-5f06-4069-abcf-21f0c4050b72\" name=\"files[]\" multiple disabled\n",
              "        style=\"border:none\" />\n",
              "     <output id=\"result-66a33d60-5f06-4069-abcf-21f0c4050b72\">\n",
              "      Upload widget is only available when the cell has been executed in the\n",
              "      current browser session. Please rerun this cell to enable.\n",
              "      </output>\n",
              "      <script src=\"/nbextensions/google.colab/files.js\"></script> "
            ]
          },
          "metadata": {}
        },
        {
          "output_type": "stream",
          "name": "stdout",
          "text": [
            "Saving dataset.xlsx to dataset.xlsx\n"
          ]
        }
      ],
      "source": [
        "data_to_load = files.upload()"
      ]
    },
    {
      "cell_type": "code",
      "execution_count": null,
      "metadata": {
        "id": "3AuHEbggB8BP"
      },
      "outputs": [],
      "source": [
        "df = pd.read_excel(io.BytesIO(data_to_load['dataset.xlsx']))\n",
        "data = df.copy()"
      ]
    },
    {
      "cell_type": "code",
      "execution_count": null,
      "metadata": {
        "id": "7_GDEKOnB9HE"
      },
      "outputs": [],
      "source": [
        "data.columns = [x.lower().strip().replace(' ','_') for x in data.columns]"
      ]
    },
    {
      "cell_type": "code",
      "execution_count": null,
      "metadata": {
        "id": "2b24gRNeCtKe"
      },
      "outputs": [],
      "source": [
        "del(data['unnamed:_111'])"
      ]
    },
    {
      "cell_type": "code",
      "execution_count": null,
      "metadata": {
        "id": "OvHg83AHCug0"
      },
      "outputs": [],
      "source": [
        "data = data.rename(columns = {'partial_thromboplastin_time (ptt)':'partial_thromboplastin_time'})"
      ]
    },
    {
      "cell_type": "code",
      "execution_count": null,
      "metadata": {
        "id": "6MnENv5QCz-i"
      },
      "outputs": [],
      "source": [
        "data.drop(columns=['patient_addmited_to_regular_ward_(1=yes,_0=no)',\n",
        "                      'patient_addmited_to_semi-intensive_unit_(1=yes,_0=no)',\n",
        "                      'patient_addmited_to_intensive_care_unit_(1=yes,_0=no)'], inplace=True)"
      ]
    },
    {
      "cell_type": "code",
      "execution_count": null,
      "metadata": {
        "id": "q93z1U9WC65X",
        "colab": {
          "base_uri": "https://localhost:8080/",
          "height": 1000
        },
        "outputId": "0d40fdcf-0608-43d2-822a-0b8e9c52dd87"
      },
      "outputs": [
        {
          "output_type": "execute_result",
          "data": {
            "text/plain": [
              "                                                  Null  Not Null  Pourcentage\n",
              "mycoplasma_pneumoniae                             5644         0   100.000000\n",
              "partial_thromboplastin_time                       5644         0   100.000000\n",
              "prothrombin_time_(pt),_activity                   5644         0   100.000000\n",
              "d-dimer                                           5644         0   100.000000\n",
              "urine_-_sugar                                     5644         0   100.000000\n",
              "urine_-_nitrite                                   5643         1    99.982282\n",
              "fio2_(venous_blood_gas_analysis)                  5643         1    99.982282\n",
              "vitamin_b12                                       5641         3    99.946846\n",
              "lipase_dosage                                     5636         8    99.858257\n",
              "albumin                                           5631        13    99.769667\n",
              "phosphor                                          5624        20    99.645641\n",
              "arteiral_fio2                                     5624        20    99.645641\n",
              "ferritin                                          5621        23    99.592488\n",
              "arterial_lactic_acid                              5617        27    99.521616\n",
              "cto2_(arterial_blood_gas_analysis)                5617        27    99.521616\n",
              "hb_saturation_(arterial_blood_gases)              5617        27    99.521616\n",
              "pco2_(arterial_blood_gas_analysis)                5617        27    99.521616\n",
              "base_excess_(arterial_blood_gas_analysis)         5617        27    99.521616\n",
              "ph_(arterial_blood_gas_analysis)                  5617        27    99.521616\n",
              "total_co2_(arterial_blood_gas_analysis)           5617        27    99.521616\n",
              "hco3_(arterial_blood_gas_analysis)                5617        27    99.521616\n",
              "po2_(arterial_blood_gas_analysis)                 5617        27    99.521616\n",
              "magnesium                                         5604        40    99.291283\n",
              "ionized_calcium                                   5594        50    99.114103\n",
              "urine_-_ketone_bodies                             5587        57    98.990078\n",
              "urine_-_esterase                                  5584        60    98.936924\n",
              "urine_-_protein                                   5584        60    98.936924\n",
              "urine_-_hyaline_cylinders                         5577        67    98.812899\n",
              "urine_-_granular_cylinders                        5575        69    98.777463\n",
              "urine_-_urobilinogen                              5575        69    98.777463\n",
              "urine_-_red_blood_cells                           5574        70    98.759745\n",
              "urine_-_aspect                                    5574        70    98.759745\n",
              "urine_-_leukocytes                                5574        70    98.759745\n",
              "urine_-_crystals                                  5574        70    98.759745\n",
              "urine_-_density                                   5574        70    98.759745\n",
              "urine_-_yeasts                                    5574        70    98.759745\n",
              "urine_-_color                                     5574        70    98.759745\n",
              "urine_-_bile_pigments                             5574        70    98.759745\n",
              "urine_-_hemoglobin                                5574        70    98.759745\n",
              "urine_-_ph                                        5574        70    98.759745\n",
              "relationship_(patient/normal)                     5553        91    98.387668\n",
              "myeloblasts                                       5547        97    98.281361\n",
              "myelocytes                                        5547        97    98.281361\n",
              "metamyelocytes                                    5547        97    98.281361\n",
              "promyelocytes                                     5547        97    98.281361\n",
              "segmented                                         5547        97    98.281361\n",
              "rods_#                                            5547        97    98.281361\n",
              "lactic_dehydrogenase                              5543       101    98.210489\n",
              "creatine_phosphokinase (cpk)                      5540       104    98.157335\n",
              "international_normalized_ratio_(inr)              5511       133    97.643515\n",
              "hb_saturation_(venous_blood_gas_analysis)         5508       136    97.590361\n",
              "hco3_(venous_blood_gas_analysis)                  5508       136    97.590361\n",
              "ph_(venous_blood_gas_analysis)                    5508       136    97.590361\n",
              "total_co2_(venous_blood_gas_analysis)             5508       136    97.590361\n",
              "po2_(venous_blood_gas_analysis)                   5508       136    97.590361\n",
              "base_excess_(venous_blood_gas_analysis)           5508       136    97.590361\n",
              "pco2_(venous_blood_gas_analysis)                  5508       136    97.590361\n",
              "alkaline_phosphatase                              5500       144    97.448618\n",
              "gamma-glutamyltransferase                         5491       153    97.289157\n",
              "indirect_bilirubin                                5462       182    96.775337\n",
              "direct_bilirubin                                  5462       182    96.775337\n",
              "total_bilirubin                                   5462       182    96.775337\n",
              "serum_glucose                                     5436       208    96.314670\n",
              "alanine_transaminase                              5419       225    96.013466\n",
              "aspartate_transaminase                            5418       226    95.995748\n",
              "strepto_a                                         5312       332    94.117647\n",
              "sodium                                            5274       370    93.444366\n",
              "potassium                                         5273       371    93.426648\n",
              "urea                                              5247       397    92.965982\n",
              "creatinine                                        5220       424    92.487597\n",
              "proteina_c_reativa_mg/dl                          5138       506    91.034727\n",
              "neutrophils                                       5131       513    90.910702\n",
              "mean_platelet_volume                              5045       599    89.386960\n",
              "monocytes                                         5043       601    89.351524\n",
              "red_blood_cells                                   5042       602    89.333806\n",
              "leukocytes                                        5042       602    89.333806\n",
              "mean_corpuscular_volume_(mcv)                     5042       602    89.333806\n",
              "eosinophils                                       5042       602    89.333806\n",
              "mean_corpuscular_hemoglobin_(mch)                 5042       602    89.333806\n",
              "basophils                                         5042       602    89.333806\n",
              "red_blood_cell_distribution_width_(rdw)           5042       602    89.333806\n",
              "mean_corpuscular_hemoglobin_concentration (mchc)  5042       602    89.333806\n",
              "lymphocytes                                       5042       602    89.333806\n",
              "platelets                                         5042       602    89.333806\n",
              "hemoglobin                                        5041       603    89.316088\n",
              "hematocrit                                        5041       603    89.316088\n",
              "influenza_a,_rapid_test                           4824       820    85.471297\n",
              "influenza_b,_rapid_test                           4824       820    85.471297\n",
              "chlamydophila_pneumoniae                          4292      1352    76.045358\n",
              "adenovirus                                        4292      1352    76.045358\n",
              "inf_a_h1n1_2009                                   4292      1352    76.045358\n",
              "parainfluenza_2                                   4292      1352    76.045358\n",
              "parainfluenza_1                                   4292      1352    76.045358\n",
              "coronavirusnl63                                   4292      1352    76.045358\n",
              "rhinovirus/enterovirus                            4292      1352    76.045358\n",
              "coronavirus_hku1                                  4292      1352    76.045358\n",
              "parainfluenza_3                                   4292      1352    76.045358\n",
              "metapneumovirus                                   4292      1352    76.045358\n",
              "bordetella_pertussis                              4292      1352    76.045358\n",
              "parainfluenza_4                                   4292      1352    76.045358\n",
              "coronavirus229e                                   4292      1352    76.045358\n",
              "coronavirusoc43                                   4292      1352    76.045358\n",
              "influenza_a                                       4290      1354    76.009922\n",
              "respiratory_syncytial_virus                       4290      1354    76.009922\n",
              "influenza_b                                       4290      1354    76.009922\n",
              "fever                                                0      5644     0.000000\n",
              "shortness_ofbreath                                   0      5644     0.000000\n",
              "sore_throat                                          0      5644     0.000000\n",
              "patient_id                                           0      5644     0.000000\n",
              "cought                                               0      5644     0.000000\n",
              "patient_age_quantile                                 0      5644     0.000000\n",
              "sars-cov-2_exam_result                               0      5644     0.000000\n",
              "head_ache                                            0      5644     0.000000"
            ],
            "text/html": [
              "\n",
              "  <div id=\"df-1e8fcad1-4783-4b6b-8a69-9a3af08ecaa1\">\n",
              "    <div class=\"colab-df-container\">\n",
              "      <div>\n",
              "<style scoped>\n",
              "    .dataframe tbody tr th:only-of-type {\n",
              "        vertical-align: middle;\n",
              "    }\n",
              "\n",
              "    .dataframe tbody tr th {\n",
              "        vertical-align: top;\n",
              "    }\n",
              "\n",
              "    .dataframe thead th {\n",
              "        text-align: right;\n",
              "    }\n",
              "</style>\n",
              "<table border=\"1\" class=\"dataframe\">\n",
              "  <thead>\n",
              "    <tr style=\"text-align: right;\">\n",
              "      <th></th>\n",
              "      <th>Null</th>\n",
              "      <th>Not Null</th>\n",
              "      <th>Pourcentage</th>\n",
              "    </tr>\n",
              "  </thead>\n",
              "  <tbody>\n",
              "    <tr>\n",
              "      <th>mycoplasma_pneumoniae</th>\n",
              "      <td>5644</td>\n",
              "      <td>0</td>\n",
              "      <td>100.000000</td>\n",
              "    </tr>\n",
              "    <tr>\n",
              "      <th>partial_thromboplastin_time</th>\n",
              "      <td>5644</td>\n",
              "      <td>0</td>\n",
              "      <td>100.000000</td>\n",
              "    </tr>\n",
              "    <tr>\n",
              "      <th>prothrombin_time_(pt),_activity</th>\n",
              "      <td>5644</td>\n",
              "      <td>0</td>\n",
              "      <td>100.000000</td>\n",
              "    </tr>\n",
              "    <tr>\n",
              "      <th>d-dimer</th>\n",
              "      <td>5644</td>\n",
              "      <td>0</td>\n",
              "      <td>100.000000</td>\n",
              "    </tr>\n",
              "    <tr>\n",
              "      <th>urine_-_sugar</th>\n",
              "      <td>5644</td>\n",
              "      <td>0</td>\n",
              "      <td>100.000000</td>\n",
              "    </tr>\n",
              "    <tr>\n",
              "      <th>urine_-_nitrite</th>\n",
              "      <td>5643</td>\n",
              "      <td>1</td>\n",
              "      <td>99.982282</td>\n",
              "    </tr>\n",
              "    <tr>\n",
              "      <th>fio2_(venous_blood_gas_analysis)</th>\n",
              "      <td>5643</td>\n",
              "      <td>1</td>\n",
              "      <td>99.982282</td>\n",
              "    </tr>\n",
              "    <tr>\n",
              "      <th>vitamin_b12</th>\n",
              "      <td>5641</td>\n",
              "      <td>3</td>\n",
              "      <td>99.946846</td>\n",
              "    </tr>\n",
              "    <tr>\n",
              "      <th>lipase_dosage</th>\n",
              "      <td>5636</td>\n",
              "      <td>8</td>\n",
              "      <td>99.858257</td>\n",
              "    </tr>\n",
              "    <tr>\n",
              "      <th>albumin</th>\n",
              "      <td>5631</td>\n",
              "      <td>13</td>\n",
              "      <td>99.769667</td>\n",
              "    </tr>\n",
              "    <tr>\n",
              "      <th>phosphor</th>\n",
              "      <td>5624</td>\n",
              "      <td>20</td>\n",
              "      <td>99.645641</td>\n",
              "    </tr>\n",
              "    <tr>\n",
              "      <th>arteiral_fio2</th>\n",
              "      <td>5624</td>\n",
              "      <td>20</td>\n",
              "      <td>99.645641</td>\n",
              "    </tr>\n",
              "    <tr>\n",
              "      <th>ferritin</th>\n",
              "      <td>5621</td>\n",
              "      <td>23</td>\n",
              "      <td>99.592488</td>\n",
              "    </tr>\n",
              "    <tr>\n",
              "      <th>arterial_lactic_acid</th>\n",
              "      <td>5617</td>\n",
              "      <td>27</td>\n",
              "      <td>99.521616</td>\n",
              "    </tr>\n",
              "    <tr>\n",
              "      <th>cto2_(arterial_blood_gas_analysis)</th>\n",
              "      <td>5617</td>\n",
              "      <td>27</td>\n",
              "      <td>99.521616</td>\n",
              "    </tr>\n",
              "    <tr>\n",
              "      <th>hb_saturation_(arterial_blood_gases)</th>\n",
              "      <td>5617</td>\n",
              "      <td>27</td>\n",
              "      <td>99.521616</td>\n",
              "    </tr>\n",
              "    <tr>\n",
              "      <th>pco2_(arterial_blood_gas_analysis)</th>\n",
              "      <td>5617</td>\n",
              "      <td>27</td>\n",
              "      <td>99.521616</td>\n",
              "    </tr>\n",
              "    <tr>\n",
              "      <th>base_excess_(arterial_blood_gas_analysis)</th>\n",
              "      <td>5617</td>\n",
              "      <td>27</td>\n",
              "      <td>99.521616</td>\n",
              "    </tr>\n",
              "    <tr>\n",
              "      <th>ph_(arterial_blood_gas_analysis)</th>\n",
              "      <td>5617</td>\n",
              "      <td>27</td>\n",
              "      <td>99.521616</td>\n",
              "    </tr>\n",
              "    <tr>\n",
              "      <th>total_co2_(arterial_blood_gas_analysis)</th>\n",
              "      <td>5617</td>\n",
              "      <td>27</td>\n",
              "      <td>99.521616</td>\n",
              "    </tr>\n",
              "    <tr>\n",
              "      <th>hco3_(arterial_blood_gas_analysis)</th>\n",
              "      <td>5617</td>\n",
              "      <td>27</td>\n",
              "      <td>99.521616</td>\n",
              "    </tr>\n",
              "    <tr>\n",
              "      <th>po2_(arterial_blood_gas_analysis)</th>\n",
              "      <td>5617</td>\n",
              "      <td>27</td>\n",
              "      <td>99.521616</td>\n",
              "    </tr>\n",
              "    <tr>\n",
              "      <th>magnesium</th>\n",
              "      <td>5604</td>\n",
              "      <td>40</td>\n",
              "      <td>99.291283</td>\n",
              "    </tr>\n",
              "    <tr>\n",
              "      <th>ionized_calcium</th>\n",
              "      <td>5594</td>\n",
              "      <td>50</td>\n",
              "      <td>99.114103</td>\n",
              "    </tr>\n",
              "    <tr>\n",
              "      <th>urine_-_ketone_bodies</th>\n",
              "      <td>5587</td>\n",
              "      <td>57</td>\n",
              "      <td>98.990078</td>\n",
              "    </tr>\n",
              "    <tr>\n",
              "      <th>urine_-_esterase</th>\n",
              "      <td>5584</td>\n",
              "      <td>60</td>\n",
              "      <td>98.936924</td>\n",
              "    </tr>\n",
              "    <tr>\n",
              "      <th>urine_-_protein</th>\n",
              "      <td>5584</td>\n",
              "      <td>60</td>\n",
              "      <td>98.936924</td>\n",
              "    </tr>\n",
              "    <tr>\n",
              "      <th>urine_-_hyaline_cylinders</th>\n",
              "      <td>5577</td>\n",
              "      <td>67</td>\n",
              "      <td>98.812899</td>\n",
              "    </tr>\n",
              "    <tr>\n",
              "      <th>urine_-_granular_cylinders</th>\n",
              "      <td>5575</td>\n",
              "      <td>69</td>\n",
              "      <td>98.777463</td>\n",
              "    </tr>\n",
              "    <tr>\n",
              "      <th>urine_-_urobilinogen</th>\n",
              "      <td>5575</td>\n",
              "      <td>69</td>\n",
              "      <td>98.777463</td>\n",
              "    </tr>\n",
              "    <tr>\n",
              "      <th>urine_-_red_blood_cells</th>\n",
              "      <td>5574</td>\n",
              "      <td>70</td>\n",
              "      <td>98.759745</td>\n",
              "    </tr>\n",
              "    <tr>\n",
              "      <th>urine_-_aspect</th>\n",
              "      <td>5574</td>\n",
              "      <td>70</td>\n",
              "      <td>98.759745</td>\n",
              "    </tr>\n",
              "    <tr>\n",
              "      <th>urine_-_leukocytes</th>\n",
              "      <td>5574</td>\n",
              "      <td>70</td>\n",
              "      <td>98.759745</td>\n",
              "    </tr>\n",
              "    <tr>\n",
              "      <th>urine_-_crystals</th>\n",
              "      <td>5574</td>\n",
              "      <td>70</td>\n",
              "      <td>98.759745</td>\n",
              "    </tr>\n",
              "    <tr>\n",
              "      <th>urine_-_density</th>\n",
              "      <td>5574</td>\n",
              "      <td>70</td>\n",
              "      <td>98.759745</td>\n",
              "    </tr>\n",
              "    <tr>\n",
              "      <th>urine_-_yeasts</th>\n",
              "      <td>5574</td>\n",
              "      <td>70</td>\n",
              "      <td>98.759745</td>\n",
              "    </tr>\n",
              "    <tr>\n",
              "      <th>urine_-_color</th>\n",
              "      <td>5574</td>\n",
              "      <td>70</td>\n",
              "      <td>98.759745</td>\n",
              "    </tr>\n",
              "    <tr>\n",
              "      <th>urine_-_bile_pigments</th>\n",
              "      <td>5574</td>\n",
              "      <td>70</td>\n",
              "      <td>98.759745</td>\n",
              "    </tr>\n",
              "    <tr>\n",
              "      <th>urine_-_hemoglobin</th>\n",
              "      <td>5574</td>\n",
              "      <td>70</td>\n",
              "      <td>98.759745</td>\n",
              "    </tr>\n",
              "    <tr>\n",
              "      <th>urine_-_ph</th>\n",
              "      <td>5574</td>\n",
              "      <td>70</td>\n",
              "      <td>98.759745</td>\n",
              "    </tr>\n",
              "    <tr>\n",
              "      <th>relationship_(patient/normal)</th>\n",
              "      <td>5553</td>\n",
              "      <td>91</td>\n",
              "      <td>98.387668</td>\n",
              "    </tr>\n",
              "    <tr>\n",
              "      <th>myeloblasts</th>\n",
              "      <td>5547</td>\n",
              "      <td>97</td>\n",
              "      <td>98.281361</td>\n",
              "    </tr>\n",
              "    <tr>\n",
              "      <th>myelocytes</th>\n",
              "      <td>5547</td>\n",
              "      <td>97</td>\n",
              "      <td>98.281361</td>\n",
              "    </tr>\n",
              "    <tr>\n",
              "      <th>metamyelocytes</th>\n",
              "      <td>5547</td>\n",
              "      <td>97</td>\n",
              "      <td>98.281361</td>\n",
              "    </tr>\n",
              "    <tr>\n",
              "      <th>promyelocytes</th>\n",
              "      <td>5547</td>\n",
              "      <td>97</td>\n",
              "      <td>98.281361</td>\n",
              "    </tr>\n",
              "    <tr>\n",
              "      <th>segmented</th>\n",
              "      <td>5547</td>\n",
              "      <td>97</td>\n",
              "      <td>98.281361</td>\n",
              "    </tr>\n",
              "    <tr>\n",
              "      <th>rods_#</th>\n",
              "      <td>5547</td>\n",
              "      <td>97</td>\n",
              "      <td>98.281361</td>\n",
              "    </tr>\n",
              "    <tr>\n",
              "      <th>lactic_dehydrogenase</th>\n",
              "      <td>5543</td>\n",
              "      <td>101</td>\n",
              "      <td>98.210489</td>\n",
              "    </tr>\n",
              "    <tr>\n",
              "      <th>creatine_phosphokinase (cpk)</th>\n",
              "      <td>5540</td>\n",
              "      <td>104</td>\n",
              "      <td>98.157335</td>\n",
              "    </tr>\n",
              "    <tr>\n",
              "      <th>international_normalized_ratio_(inr)</th>\n",
              "      <td>5511</td>\n",
              "      <td>133</td>\n",
              "      <td>97.643515</td>\n",
              "    </tr>\n",
              "    <tr>\n",
              "      <th>hb_saturation_(venous_blood_gas_analysis)</th>\n",
              "      <td>5508</td>\n",
              "      <td>136</td>\n",
              "      <td>97.590361</td>\n",
              "    </tr>\n",
              "    <tr>\n",
              "      <th>hco3_(venous_blood_gas_analysis)</th>\n",
              "      <td>5508</td>\n",
              "      <td>136</td>\n",
              "      <td>97.590361</td>\n",
              "    </tr>\n",
              "    <tr>\n",
              "      <th>ph_(venous_blood_gas_analysis)</th>\n",
              "      <td>5508</td>\n",
              "      <td>136</td>\n",
              "      <td>97.590361</td>\n",
              "    </tr>\n",
              "    <tr>\n",
              "      <th>total_co2_(venous_blood_gas_analysis)</th>\n",
              "      <td>5508</td>\n",
              "      <td>136</td>\n",
              "      <td>97.590361</td>\n",
              "    </tr>\n",
              "    <tr>\n",
              "      <th>po2_(venous_blood_gas_analysis)</th>\n",
              "      <td>5508</td>\n",
              "      <td>136</td>\n",
              "      <td>97.590361</td>\n",
              "    </tr>\n",
              "    <tr>\n",
              "      <th>base_excess_(venous_blood_gas_analysis)</th>\n",
              "      <td>5508</td>\n",
              "      <td>136</td>\n",
              "      <td>97.590361</td>\n",
              "    </tr>\n",
              "    <tr>\n",
              "      <th>pco2_(venous_blood_gas_analysis)</th>\n",
              "      <td>5508</td>\n",
              "      <td>136</td>\n",
              "      <td>97.590361</td>\n",
              "    </tr>\n",
              "    <tr>\n",
              "      <th>alkaline_phosphatase</th>\n",
              "      <td>5500</td>\n",
              "      <td>144</td>\n",
              "      <td>97.448618</td>\n",
              "    </tr>\n",
              "    <tr>\n",
              "      <th>gamma-glutamyltransferase</th>\n",
              "      <td>5491</td>\n",
              "      <td>153</td>\n",
              "      <td>97.289157</td>\n",
              "    </tr>\n",
              "    <tr>\n",
              "      <th>indirect_bilirubin</th>\n",
              "      <td>5462</td>\n",
              "      <td>182</td>\n",
              "      <td>96.775337</td>\n",
              "    </tr>\n",
              "    <tr>\n",
              "      <th>direct_bilirubin</th>\n",
              "      <td>5462</td>\n",
              "      <td>182</td>\n",
              "      <td>96.775337</td>\n",
              "    </tr>\n",
              "    <tr>\n",
              "      <th>total_bilirubin</th>\n",
              "      <td>5462</td>\n",
              "      <td>182</td>\n",
              "      <td>96.775337</td>\n",
              "    </tr>\n",
              "    <tr>\n",
              "      <th>serum_glucose</th>\n",
              "      <td>5436</td>\n",
              "      <td>208</td>\n",
              "      <td>96.314670</td>\n",
              "    </tr>\n",
              "    <tr>\n",
              "      <th>alanine_transaminase</th>\n",
              "      <td>5419</td>\n",
              "      <td>225</td>\n",
              "      <td>96.013466</td>\n",
              "    </tr>\n",
              "    <tr>\n",
              "      <th>aspartate_transaminase</th>\n",
              "      <td>5418</td>\n",
              "      <td>226</td>\n",
              "      <td>95.995748</td>\n",
              "    </tr>\n",
              "    <tr>\n",
              "      <th>strepto_a</th>\n",
              "      <td>5312</td>\n",
              "      <td>332</td>\n",
              "      <td>94.117647</td>\n",
              "    </tr>\n",
              "    <tr>\n",
              "      <th>sodium</th>\n",
              "      <td>5274</td>\n",
              "      <td>370</td>\n",
              "      <td>93.444366</td>\n",
              "    </tr>\n",
              "    <tr>\n",
              "      <th>potassium</th>\n",
              "      <td>5273</td>\n",
              "      <td>371</td>\n",
              "      <td>93.426648</td>\n",
              "    </tr>\n",
              "    <tr>\n",
              "      <th>urea</th>\n",
              "      <td>5247</td>\n",
              "      <td>397</td>\n",
              "      <td>92.965982</td>\n",
              "    </tr>\n",
              "    <tr>\n",
              "      <th>creatinine</th>\n",
              "      <td>5220</td>\n",
              "      <td>424</td>\n",
              "      <td>92.487597</td>\n",
              "    </tr>\n",
              "    <tr>\n",
              "      <th>proteina_c_reativa_mg/dl</th>\n",
              "      <td>5138</td>\n",
              "      <td>506</td>\n",
              "      <td>91.034727</td>\n",
              "    </tr>\n",
              "    <tr>\n",
              "      <th>neutrophils</th>\n",
              "      <td>5131</td>\n",
              "      <td>513</td>\n",
              "      <td>90.910702</td>\n",
              "    </tr>\n",
              "    <tr>\n",
              "      <th>mean_platelet_volume</th>\n",
              "      <td>5045</td>\n",
              "      <td>599</td>\n",
              "      <td>89.386960</td>\n",
              "    </tr>\n",
              "    <tr>\n",
              "      <th>monocytes</th>\n",
              "      <td>5043</td>\n",
              "      <td>601</td>\n",
              "      <td>89.351524</td>\n",
              "    </tr>\n",
              "    <tr>\n",
              "      <th>red_blood_cells</th>\n",
              "      <td>5042</td>\n",
              "      <td>602</td>\n",
              "      <td>89.333806</td>\n",
              "    </tr>\n",
              "    <tr>\n",
              "      <th>leukocytes</th>\n",
              "      <td>5042</td>\n",
              "      <td>602</td>\n",
              "      <td>89.333806</td>\n",
              "    </tr>\n",
              "    <tr>\n",
              "      <th>mean_corpuscular_volume_(mcv)</th>\n",
              "      <td>5042</td>\n",
              "      <td>602</td>\n",
              "      <td>89.333806</td>\n",
              "    </tr>\n",
              "    <tr>\n",
              "      <th>eosinophils</th>\n",
              "      <td>5042</td>\n",
              "      <td>602</td>\n",
              "      <td>89.333806</td>\n",
              "    </tr>\n",
              "    <tr>\n",
              "      <th>mean_corpuscular_hemoglobin_(mch)</th>\n",
              "      <td>5042</td>\n",
              "      <td>602</td>\n",
              "      <td>89.333806</td>\n",
              "    </tr>\n",
              "    <tr>\n",
              "      <th>basophils</th>\n",
              "      <td>5042</td>\n",
              "      <td>602</td>\n",
              "      <td>89.333806</td>\n",
              "    </tr>\n",
              "    <tr>\n",
              "      <th>red_blood_cell_distribution_width_(rdw)</th>\n",
              "      <td>5042</td>\n",
              "      <td>602</td>\n",
              "      <td>89.333806</td>\n",
              "    </tr>\n",
              "    <tr>\n",
              "      <th>mean_corpuscular_hemoglobin_concentration (mchc)</th>\n",
              "      <td>5042</td>\n",
              "      <td>602</td>\n",
              "      <td>89.333806</td>\n",
              "    </tr>\n",
              "    <tr>\n",
              "      <th>lymphocytes</th>\n",
              "      <td>5042</td>\n",
              "      <td>602</td>\n",
              "      <td>89.333806</td>\n",
              "    </tr>\n",
              "    <tr>\n",
              "      <th>platelets</th>\n",
              "      <td>5042</td>\n",
              "      <td>602</td>\n",
              "      <td>89.333806</td>\n",
              "    </tr>\n",
              "    <tr>\n",
              "      <th>hemoglobin</th>\n",
              "      <td>5041</td>\n",
              "      <td>603</td>\n",
              "      <td>89.316088</td>\n",
              "    </tr>\n",
              "    <tr>\n",
              "      <th>hematocrit</th>\n",
              "      <td>5041</td>\n",
              "      <td>603</td>\n",
              "      <td>89.316088</td>\n",
              "    </tr>\n",
              "    <tr>\n",
              "      <th>influenza_a,_rapid_test</th>\n",
              "      <td>4824</td>\n",
              "      <td>820</td>\n",
              "      <td>85.471297</td>\n",
              "    </tr>\n",
              "    <tr>\n",
              "      <th>influenza_b,_rapid_test</th>\n",
              "      <td>4824</td>\n",
              "      <td>820</td>\n",
              "      <td>85.471297</td>\n",
              "    </tr>\n",
              "    <tr>\n",
              "      <th>chlamydophila_pneumoniae</th>\n",
              "      <td>4292</td>\n",
              "      <td>1352</td>\n",
              "      <td>76.045358</td>\n",
              "    </tr>\n",
              "    <tr>\n",
              "      <th>adenovirus</th>\n",
              "      <td>4292</td>\n",
              "      <td>1352</td>\n",
              "      <td>76.045358</td>\n",
              "    </tr>\n",
              "    <tr>\n",
              "      <th>inf_a_h1n1_2009</th>\n",
              "      <td>4292</td>\n",
              "      <td>1352</td>\n",
              "      <td>76.045358</td>\n",
              "    </tr>\n",
              "    <tr>\n",
              "      <th>parainfluenza_2</th>\n",
              "      <td>4292</td>\n",
              "      <td>1352</td>\n",
              "      <td>76.045358</td>\n",
              "    </tr>\n",
              "    <tr>\n",
              "      <th>parainfluenza_1</th>\n",
              "      <td>4292</td>\n",
              "      <td>1352</td>\n",
              "      <td>76.045358</td>\n",
              "    </tr>\n",
              "    <tr>\n",
              "      <th>coronavirusnl63</th>\n",
              "      <td>4292</td>\n",
              "      <td>1352</td>\n",
              "      <td>76.045358</td>\n",
              "    </tr>\n",
              "    <tr>\n",
              "      <th>rhinovirus/enterovirus</th>\n",
              "      <td>4292</td>\n",
              "      <td>1352</td>\n",
              "      <td>76.045358</td>\n",
              "    </tr>\n",
              "    <tr>\n",
              "      <th>coronavirus_hku1</th>\n",
              "      <td>4292</td>\n",
              "      <td>1352</td>\n",
              "      <td>76.045358</td>\n",
              "    </tr>\n",
              "    <tr>\n",
              "      <th>parainfluenza_3</th>\n",
              "      <td>4292</td>\n",
              "      <td>1352</td>\n",
              "      <td>76.045358</td>\n",
              "    </tr>\n",
              "    <tr>\n",
              "      <th>metapneumovirus</th>\n",
              "      <td>4292</td>\n",
              "      <td>1352</td>\n",
              "      <td>76.045358</td>\n",
              "    </tr>\n",
              "    <tr>\n",
              "      <th>bordetella_pertussis</th>\n",
              "      <td>4292</td>\n",
              "      <td>1352</td>\n",
              "      <td>76.045358</td>\n",
              "    </tr>\n",
              "    <tr>\n",
              "      <th>parainfluenza_4</th>\n",
              "      <td>4292</td>\n",
              "      <td>1352</td>\n",
              "      <td>76.045358</td>\n",
              "    </tr>\n",
              "    <tr>\n",
              "      <th>coronavirus229e</th>\n",
              "      <td>4292</td>\n",
              "      <td>1352</td>\n",
              "      <td>76.045358</td>\n",
              "    </tr>\n",
              "    <tr>\n",
              "      <th>coronavirusoc43</th>\n",
              "      <td>4292</td>\n",
              "      <td>1352</td>\n",
              "      <td>76.045358</td>\n",
              "    </tr>\n",
              "    <tr>\n",
              "      <th>influenza_a</th>\n",
              "      <td>4290</td>\n",
              "      <td>1354</td>\n",
              "      <td>76.009922</td>\n",
              "    </tr>\n",
              "    <tr>\n",
              "      <th>respiratory_syncytial_virus</th>\n",
              "      <td>4290</td>\n",
              "      <td>1354</td>\n",
              "      <td>76.009922</td>\n",
              "    </tr>\n",
              "    <tr>\n",
              "      <th>influenza_b</th>\n",
              "      <td>4290</td>\n",
              "      <td>1354</td>\n",
              "      <td>76.009922</td>\n",
              "    </tr>\n",
              "    <tr>\n",
              "      <th>fever</th>\n",
              "      <td>0</td>\n",
              "      <td>5644</td>\n",
              "      <td>0.000000</td>\n",
              "    </tr>\n",
              "    <tr>\n",
              "      <th>shortness_ofbreath</th>\n",
              "      <td>0</td>\n",
              "      <td>5644</td>\n",
              "      <td>0.000000</td>\n",
              "    </tr>\n",
              "    <tr>\n",
              "      <th>sore_throat</th>\n",
              "      <td>0</td>\n",
              "      <td>5644</td>\n",
              "      <td>0.000000</td>\n",
              "    </tr>\n",
              "    <tr>\n",
              "      <th>patient_id</th>\n",
              "      <td>0</td>\n",
              "      <td>5644</td>\n",
              "      <td>0.000000</td>\n",
              "    </tr>\n",
              "    <tr>\n",
              "      <th>cought</th>\n",
              "      <td>0</td>\n",
              "      <td>5644</td>\n",
              "      <td>0.000000</td>\n",
              "    </tr>\n",
              "    <tr>\n",
              "      <th>patient_age_quantile</th>\n",
              "      <td>0</td>\n",
              "      <td>5644</td>\n",
              "      <td>0.000000</td>\n",
              "    </tr>\n",
              "    <tr>\n",
              "      <th>sars-cov-2_exam_result</th>\n",
              "      <td>0</td>\n",
              "      <td>5644</td>\n",
              "      <td>0.000000</td>\n",
              "    </tr>\n",
              "    <tr>\n",
              "      <th>head_ache</th>\n",
              "      <td>0</td>\n",
              "      <td>5644</td>\n",
              "      <td>0.000000</td>\n",
              "    </tr>\n",
              "  </tbody>\n",
              "</table>\n",
              "</div>\n",
              "      <button class=\"colab-df-convert\" onclick=\"convertToInteractive('df-1e8fcad1-4783-4b6b-8a69-9a3af08ecaa1')\"\n",
              "              title=\"Convert this dataframe to an interactive table.\"\n",
              "              style=\"display:none;\">\n",
              "        \n",
              "  <svg xmlns=\"http://www.w3.org/2000/svg\" height=\"24px\"viewBox=\"0 0 24 24\"\n",
              "       width=\"24px\">\n",
              "    <path d=\"M0 0h24v24H0V0z\" fill=\"none\"/>\n",
              "    <path d=\"M18.56 5.44l.94 2.06.94-2.06 2.06-.94-2.06-.94-.94-2.06-.94 2.06-2.06.94zm-11 1L8.5 8.5l.94-2.06 2.06-.94-2.06-.94L8.5 2.5l-.94 2.06-2.06.94zm10 10l.94 2.06.94-2.06 2.06-.94-2.06-.94-.94-2.06-.94 2.06-2.06.94z\"/><path d=\"M17.41 7.96l-1.37-1.37c-.4-.4-.92-.59-1.43-.59-.52 0-1.04.2-1.43.59L10.3 9.45l-7.72 7.72c-.78.78-.78 2.05 0 2.83L4 21.41c.39.39.9.59 1.41.59.51 0 1.02-.2 1.41-.59l7.78-7.78 2.81-2.81c.8-.78.8-2.07 0-2.86zM5.41 20L4 18.59l7.72-7.72 1.47 1.35L5.41 20z\"/>\n",
              "  </svg>\n",
              "      </button>\n",
              "      \n",
              "  <style>\n",
              "    .colab-df-container {\n",
              "      display:flex;\n",
              "      flex-wrap:wrap;\n",
              "      gap: 12px;\n",
              "    }\n",
              "\n",
              "    .colab-df-convert {\n",
              "      background-color: #E8F0FE;\n",
              "      border: none;\n",
              "      border-radius: 50%;\n",
              "      cursor: pointer;\n",
              "      display: none;\n",
              "      fill: #1967D2;\n",
              "      height: 32px;\n",
              "      padding: 0 0 0 0;\n",
              "      width: 32px;\n",
              "    }\n",
              "\n",
              "    .colab-df-convert:hover {\n",
              "      background-color: #E2EBFA;\n",
              "      box-shadow: 0px 1px 2px rgba(60, 64, 67, 0.3), 0px 1px 3px 1px rgba(60, 64, 67, 0.15);\n",
              "      fill: #174EA6;\n",
              "    }\n",
              "\n",
              "    [theme=dark] .colab-df-convert {\n",
              "      background-color: #3B4455;\n",
              "      fill: #D2E3FC;\n",
              "    }\n",
              "\n",
              "    [theme=dark] .colab-df-convert:hover {\n",
              "      background-color: #434B5C;\n",
              "      box-shadow: 0px 1px 3px 1px rgba(0, 0, 0, 0.15);\n",
              "      filter: drop-shadow(0px 1px 2px rgba(0, 0, 0, 0.3));\n",
              "      fill: #FFFFFF;\n",
              "    }\n",
              "  </style>\n",
              "\n",
              "      <script>\n",
              "        const buttonEl =\n",
              "          document.querySelector('#df-1e8fcad1-4783-4b6b-8a69-9a3af08ecaa1 button.colab-df-convert');\n",
              "        buttonEl.style.display =\n",
              "          google.colab.kernel.accessAllowed ? 'block' : 'none';\n",
              "\n",
              "        async function convertToInteractive(key) {\n",
              "          const element = document.querySelector('#df-1e8fcad1-4783-4b6b-8a69-9a3af08ecaa1');\n",
              "          const dataTable =\n",
              "            await google.colab.kernel.invokeFunction('convertToInteractive',\n",
              "                                                     [key], {});\n",
              "          if (!dataTable) return;\n",
              "\n",
              "          const docLinkHtml = 'Like what you see? Visit the ' +\n",
              "            '<a target=\"_blank\" href=https://colab.research.google.com/notebooks/data_table.ipynb>data table notebook</a>'\n",
              "            + ' to learn more about interactive tables.';\n",
              "          element.innerHTML = '';\n",
              "          dataTable['output_type'] = 'display_data';\n",
              "          await google.colab.output.renderOutput(dataTable, element);\n",
              "          const docLink = document.createElement('div');\n",
              "          docLink.innerHTML = docLinkHtml;\n",
              "          element.appendChild(docLink);\n",
              "        }\n",
              "      </script>\n",
              "    </div>\n",
              "  </div>\n",
              "  "
            ]
          },
          "metadata": {},
          "execution_count": 8
        }
      ],
      "source": [
        "total_null_values = data.isnull().sum().sort_values(ascending=False) \n",
        "not_null_values = data.notnull().sum().sort_values(ascending=False) \n",
        "null_values_percentage = (data.isnull().sum()/data.notnull().count().sort_values(ascending=False)) * 100\n",
        "\n",
        "dataset_missing_values = pd.concat({'Null': total_null_values, 'Not Null': not_null_values, 'Pourcentage': null_values_percentage}, axis=1)\n",
        "\n",
        "dataset_missing_values"
      ]
    },
    {
      "cell_type": "code",
      "execution_count": null,
      "metadata": {
        "id": "E6FxdzQIC_EE",
        "colab": {
          "base_uri": "https://localhost:8080/",
          "height": 332
        },
        "outputId": "b3e70cb0-439a-40bd-c699-19e6577f6692"
      },
      "outputs": [
        {
          "output_type": "execute_result",
          "data": {
            "text/plain": [
              "                                  Null  Not Null  Pourcentage\n",
              "mycoplasma_pneumoniae             5644         0   100.000000\n",
              "partial_thromboplastin_time       5644         0   100.000000\n",
              "prothrombin_time_(pt),_activity   5644         0   100.000000\n",
              "d-dimer                           5644         0   100.000000\n",
              "urine_-_sugar                     5644         0   100.000000\n",
              "urine_-_nitrite                   5643         1    99.982282\n",
              "fio2_(venous_blood_gas_analysis)  5643         1    99.982282\n",
              "vitamin_b12                       5641         3    99.946846\n",
              "lipase_dosage                     5636         8    99.858257"
            ],
            "text/html": [
              "\n",
              "  <div id=\"df-24b0eb91-90c5-4c86-8e27-acf9b0a1161e\">\n",
              "    <div class=\"colab-df-container\">\n",
              "      <div>\n",
              "<style scoped>\n",
              "    .dataframe tbody tr th:only-of-type {\n",
              "        vertical-align: middle;\n",
              "    }\n",
              "\n",
              "    .dataframe tbody tr th {\n",
              "        vertical-align: top;\n",
              "    }\n",
              "\n",
              "    .dataframe thead th {\n",
              "        text-align: right;\n",
              "    }\n",
              "</style>\n",
              "<table border=\"1\" class=\"dataframe\">\n",
              "  <thead>\n",
              "    <tr style=\"text-align: right;\">\n",
              "      <th></th>\n",
              "      <th>Null</th>\n",
              "      <th>Not Null</th>\n",
              "      <th>Pourcentage</th>\n",
              "    </tr>\n",
              "  </thead>\n",
              "  <tbody>\n",
              "    <tr>\n",
              "      <th>mycoplasma_pneumoniae</th>\n",
              "      <td>5644</td>\n",
              "      <td>0</td>\n",
              "      <td>100.000000</td>\n",
              "    </tr>\n",
              "    <tr>\n",
              "      <th>partial_thromboplastin_time</th>\n",
              "      <td>5644</td>\n",
              "      <td>0</td>\n",
              "      <td>100.000000</td>\n",
              "    </tr>\n",
              "    <tr>\n",
              "      <th>prothrombin_time_(pt),_activity</th>\n",
              "      <td>5644</td>\n",
              "      <td>0</td>\n",
              "      <td>100.000000</td>\n",
              "    </tr>\n",
              "    <tr>\n",
              "      <th>d-dimer</th>\n",
              "      <td>5644</td>\n",
              "      <td>0</td>\n",
              "      <td>100.000000</td>\n",
              "    </tr>\n",
              "    <tr>\n",
              "      <th>urine_-_sugar</th>\n",
              "      <td>5644</td>\n",
              "      <td>0</td>\n",
              "      <td>100.000000</td>\n",
              "    </tr>\n",
              "    <tr>\n",
              "      <th>urine_-_nitrite</th>\n",
              "      <td>5643</td>\n",
              "      <td>1</td>\n",
              "      <td>99.982282</td>\n",
              "    </tr>\n",
              "    <tr>\n",
              "      <th>fio2_(venous_blood_gas_analysis)</th>\n",
              "      <td>5643</td>\n",
              "      <td>1</td>\n",
              "      <td>99.982282</td>\n",
              "    </tr>\n",
              "    <tr>\n",
              "      <th>vitamin_b12</th>\n",
              "      <td>5641</td>\n",
              "      <td>3</td>\n",
              "      <td>99.946846</td>\n",
              "    </tr>\n",
              "    <tr>\n",
              "      <th>lipase_dosage</th>\n",
              "      <td>5636</td>\n",
              "      <td>8</td>\n",
              "      <td>99.858257</td>\n",
              "    </tr>\n",
              "  </tbody>\n",
              "</table>\n",
              "</div>\n",
              "      <button class=\"colab-df-convert\" onclick=\"convertToInteractive('df-24b0eb91-90c5-4c86-8e27-acf9b0a1161e')\"\n",
              "              title=\"Convert this dataframe to an interactive table.\"\n",
              "              style=\"display:none;\">\n",
              "        \n",
              "  <svg xmlns=\"http://www.w3.org/2000/svg\" height=\"24px\"viewBox=\"0 0 24 24\"\n",
              "       width=\"24px\">\n",
              "    <path d=\"M0 0h24v24H0V0z\" fill=\"none\"/>\n",
              "    <path d=\"M18.56 5.44l.94 2.06.94-2.06 2.06-.94-2.06-.94-.94-2.06-.94 2.06-2.06.94zm-11 1L8.5 8.5l.94-2.06 2.06-.94-2.06-.94L8.5 2.5l-.94 2.06-2.06.94zm10 10l.94 2.06.94-2.06 2.06-.94-2.06-.94-.94-2.06-.94 2.06-2.06.94z\"/><path d=\"M17.41 7.96l-1.37-1.37c-.4-.4-.92-.59-1.43-.59-.52 0-1.04.2-1.43.59L10.3 9.45l-7.72 7.72c-.78.78-.78 2.05 0 2.83L4 21.41c.39.39.9.59 1.41.59.51 0 1.02-.2 1.41-.59l7.78-7.78 2.81-2.81c.8-.78.8-2.07 0-2.86zM5.41 20L4 18.59l7.72-7.72 1.47 1.35L5.41 20z\"/>\n",
              "  </svg>\n",
              "      </button>\n",
              "      \n",
              "  <style>\n",
              "    .colab-df-container {\n",
              "      display:flex;\n",
              "      flex-wrap:wrap;\n",
              "      gap: 12px;\n",
              "    }\n",
              "\n",
              "    .colab-df-convert {\n",
              "      background-color: #E8F0FE;\n",
              "      border: none;\n",
              "      border-radius: 50%;\n",
              "      cursor: pointer;\n",
              "      display: none;\n",
              "      fill: #1967D2;\n",
              "      height: 32px;\n",
              "      padding: 0 0 0 0;\n",
              "      width: 32px;\n",
              "    }\n",
              "\n",
              "    .colab-df-convert:hover {\n",
              "      background-color: #E2EBFA;\n",
              "      box-shadow: 0px 1px 2px rgba(60, 64, 67, 0.3), 0px 1px 3px 1px rgba(60, 64, 67, 0.15);\n",
              "      fill: #174EA6;\n",
              "    }\n",
              "\n",
              "    [theme=dark] .colab-df-convert {\n",
              "      background-color: #3B4455;\n",
              "      fill: #D2E3FC;\n",
              "    }\n",
              "\n",
              "    [theme=dark] .colab-df-convert:hover {\n",
              "      background-color: #434B5C;\n",
              "      box-shadow: 0px 1px 3px 1px rgba(0, 0, 0, 0.15);\n",
              "      filter: drop-shadow(0px 1px 2px rgba(0, 0, 0, 0.3));\n",
              "      fill: #FFFFFF;\n",
              "    }\n",
              "  </style>\n",
              "\n",
              "      <script>\n",
              "        const buttonEl =\n",
              "          document.querySelector('#df-24b0eb91-90c5-4c86-8e27-acf9b0a1161e button.colab-df-convert');\n",
              "        buttonEl.style.display =\n",
              "          google.colab.kernel.accessAllowed ? 'block' : 'none';\n",
              "\n",
              "        async function convertToInteractive(key) {\n",
              "          const element = document.querySelector('#df-24b0eb91-90c5-4c86-8e27-acf9b0a1161e');\n",
              "          const dataTable =\n",
              "            await google.colab.kernel.invokeFunction('convertToInteractive',\n",
              "                                                     [key], {});\n",
              "          if (!dataTable) return;\n",
              "\n",
              "          const docLinkHtml = 'Like what you see? Visit the ' +\n",
              "            '<a target=\"_blank\" href=https://colab.research.google.com/notebooks/data_table.ipynb>data table notebook</a>'\n",
              "            + ' to learn more about interactive tables.';\n",
              "          element.innerHTML = '';\n",
              "          dataTable['output_type'] = 'display_data';\n",
              "          await google.colab.output.renderOutput(dataTable, element);\n",
              "          const docLink = document.createElement('div');\n",
              "          docLink.innerHTML = docLinkHtml;\n",
              "          element.appendChild(docLink);\n",
              "        }\n",
              "      </script>\n",
              "    </div>\n",
              "  </div>\n",
              "  "
            ]
          },
          "metadata": {},
          "execution_count": 9
        }
      ],
      "source": [
        "dataset_missing_values[dataset_missing_values['Not Null'] <= 10]"
      ]
    },
    {
      "cell_type": "code",
      "execution_count": null,
      "metadata": {
        "id": "PGgl3z6tDCZM"
      },
      "outputs": [],
      "source": [
        "data.drop(columns=['d-dimer','partial_thromboplastin_time','mycoplasma_pneumoniae','prothrombin_time_(pt),_activity','urine_-_sugar','fio2_(venous_blood_gas_analysis)','urine_-_nitrite','vitamin_b12','lipase_dosage'], inplace=True)"
      ]
    },
    {
      "cell_type": "code",
      "execution_count": null,
      "metadata": {
        "id": "WtWn6M4VDFFS"
      },
      "outputs": [],
      "source": [
        "data = data.fillna(0)"
      ]
    },
    {
      "cell_type": "code",
      "execution_count": null,
      "metadata": {
        "id": "VxbKevvqDHUf"
      },
      "outputs": [],
      "source": [
        "data.replace('not_detected', 0, inplace=True)\n",
        "data.replace('detected', 1, inplace=True)\n",
        "data.replace('absent', 0, inplace=True)\n",
        "data.replace('present', 1, inplace=True)\n",
        "data.replace('negative', 0, inplace=True)\n",
        "data.replace('positive', 1, inplace=True)"
      ]
    },
    {
      "cell_type": "code",
      "execution_count": null,
      "metadata": {
        "id": "-15xnLtGDKXV"
      },
      "outputs": [],
      "source": [
        "relevant_features = [\"platelets\",\"leukocytes\",\"eosinophils\",\"monocytes\",\"hemoglobin\",\"cto2_(arterial_blood_gas_analysis)\",\"pco2_(arterial_blood_gas_analysis)\",\"fever\",\"sore_throat\",\"cought\",\"shortness_ofbreath\",\"head_ache\"]"
      ]
    },
    {
      "cell_type": "code",
      "execution_count": null,
      "metadata": {
        "colab": {
          "base_uri": "https://localhost:8080/",
          "height": 778
        },
        "id": "2ZeNyt1CDNZ-",
        "outputId": "2098a873-a971-49c8-edb3-e2be724b5b94"
      },
      "outputs": [
        {
          "output_type": "execute_result",
          "data": {
            "text/plain": [
              "<matplotlib.axes._subplots.AxesSubplot at 0x7f6722ecf110>"
            ]
          },
          "metadata": {},
          "execution_count": 14
        },
        {
          "output_type": "display_data",
          "data": {
            "text/plain": [
              "<Figure size 1296x720 with 2 Axes>"
            ],
            "image/png": "[encoded data removed]"
          },
          "metadata": {
            "needs_background": "light"
          }
        }
      ],
      "source": [
        "fig, axs = plt.subplots(figsize=(18, 10))\n",
        "sns.heatmap(abs(data[relevant_features].corr()), yticklabels=relevant_features, xticklabels=relevant_features, vmin = 0.0, square=True, annot=True, vmax=1.0, cmap='OrRd')"
      ]
    },
    {
      "cell_type": "code",
      "execution_count": null,
      "metadata": {
        "id": "6VkP9ltLDS7o"
      },
      "outputs": [],
      "source": [
        "target = data['sars-cov-2_exam_result']\n",
        "features = data.select_dtypes(exclude=[object])\n",
        "del(features['sars-cov-2_exam_result'])\n",
        "X_train,X_test,y_train,y_test = train_test_split(features, target, test_size=0.3, random_state=42, stratify = target)"
      ]
    },
    {
      "cell_type": "code",
      "execution_count": null,
      "metadata": {
        "colab": {
          "base_uri": "https://localhost:8080/",
          "height": 411
        },
        "id": "GgW8OpgcDT3p",
        "outputId": "75715257-1d01-4c4e-c09b-9758d26675b5"
      },
      "outputs": [
        {
          "output_type": "display_data",
          "data": {
            "text/plain": [
              "<Figure size 1008x504 with 1 Axes>"
            ],
            "image/png": "[encoded data removed]"
          },
          "metadata": {}
        }
      ],
      "source": [
        "dataset_negative = target == 0\n",
        "dataset_positive = target == 1\n",
        "\n",
        "labels = 'Positive Cases', 'Negative Cases'\n",
        "sizes = [dataset_positive.sum(), dataset_negative.sum()]\n",
        "colors = ['lightcoral', 'lightskyblue']\n",
        "explode = (0.1, 0) \n",
        "\n",
        "fig, axs = plt.subplots(figsize=(14, 7))\n",
        "plt.pie(sizes, explode=explode, labels=labels, colors=colors,\n",
        "autopct='%1.1f%%', shadow=True, startangle=140)\n",
        "\n",
        "plt.axis('equal')\n",
        "plt.show()"
      ]
    },
    {
      "cell_type": "code",
      "execution_count": null,
      "metadata": {
        "id": "VSfe554PDYqd"
      },
      "outputs": [],
      "source": [
        "sm = SMOTENC(random_state=42,categorical_features=[16,17,18,19,20,21,22,23,24,25,26,27,28,29,30,31,32,39,40,65,66])\n",
        "X_res, y_res = sm.fit_resample(X_train, y_train)"
      ]
    },
    {
      "cell_type": "code",
      "execution_count": null,
      "metadata": {
        "colab": {
          "base_uri": "https://localhost:8080/",
          "height": 411
        },
        "id": "s6NDt3H7DcBp",
        "outputId": "01eb6691-deae-48aa-f385-145c62ed1481"
      },
      "outputs": [
        {
          "output_type": "display_data",
          "data": {
            "text/plain": [
              "<Figure size 1008x504 with 1 Axes>"
            ],
            "image/png": "[encoded data removed]"
          },
          "metadata": {}
        }
      ],
      "source": [
        "dataset_negative = y_res == 0\n",
        "dataset_positive = y_res == 1\n",
        "\n",
        "labels = 'Positive Cases', 'Negative Cases'\n",
        "sizes = [dataset_positive.sum(), dataset_negative.sum()]\n",
        "colors = ['lightcoral', 'lightskyblue']\n",
        "explode = (0.1, 0) \n",
        "\n",
        "fig, axs = plt.subplots(figsize=(14, 7))\n",
        "plt.pie(sizes, explode=explode, labels=labels, colors=colors,\n",
        "autopct='%1.1f%%', shadow=True, startangle=140)\n",
        "\n",
        "plt.axis('equal')\n",
        "plt.show()"
      ]
    },
    {
      "cell_type": "code",
      "execution_count": null,
      "metadata": {
        "id": "Aq92VhusDfW5"
      },
      "outputs": [],
      "source": [
        "#Standardisation des données\n",
        "from sklearn.preprocessing import StandardScaler\n",
        "\n",
        "scaler= StandardScaler() \n",
        "scaler.fit(X_res)      \n",
        "X_scaled = pd.DataFrame(scaler.transform(X_res), columns = X_train.columns ) # transform train set\n",
        "\n",
        "test_scaled = pd.DataFrame(scaler.transform(X_test), columns = X_train.columns )"
      ]
    },
    {
      "cell_type": "code",
      "execution_count": null,
      "metadata": {
        "id": "zAUKNMG1EupG"
      },
      "outputs": [],
      "source": [
        "#application du pca\n",
        "from sklearn.decomposition import PCA\n",
        "pca_ = PCA()\n",
        "train_pca = pca_.fit_transform(X_scaled)\n",
        "df_PCA = pd.DataFrame(train_pca, index = X_res.index, columns = ['PC'+str(i) for i in range(pca_.n_components_)])"
      ]
    },
    {
      "cell_type": "code",
      "execution_count": null,
      "metadata": {
        "colab": {
          "base_uri": "https://localhost:8080/"
        },
        "id": "Jqj4WkPkE9Xp",
        "outputId": "3c0b3d6a-c800-450e-8813-d285bc151c05"
      },
      "outputs": [
        {
          "output_type": "execute_result",
          "data": {
            "text/plain": [
              "array([5.06531315e+00, 4.49104180e+00, 4.24382261e+00, 3.96721286e+00,\n",
              "       3.24595010e+00, 2.95799101e+00, 2.49322091e+00, 2.45871548e+00,\n",
              "       2.24645449e+00, 2.16672147e+00, 1.98769069e+00, 1.78346928e+00,\n",
              "       1.67037701e+00, 1.56825885e+00, 1.51667094e+00, 1.41892044e+00,\n",
              "       1.37549179e+00, 1.31367877e+00, 1.26288280e+00, 1.21796575e+00,\n",
              "       1.20697703e+00, 1.19682051e+00, 1.12881356e+00, 1.09021395e+00,\n",
              "       1.07045262e+00, 1.05684044e+00, 1.03606064e+00, 1.01561256e+00,\n",
              "       1.00940076e+00, 1.00470568e+00, 1.00091802e+00, 9.96216629e-01,\n",
              "       9.95614450e-01, 9.81535835e-01, 9.38418857e-01, 9.14979543e-01,\n",
              "       9.11409709e-01, 8.86359279e-01, 8.78547641e-01, 8.71024740e-01,\n",
              "       8.55033750e-01, 8.29415674e-01, 8.19544087e-01, 8.12761076e-01,\n",
              "       7.89965030e-01, 7.64277378e-01, 7.31171254e-01, 7.17750032e-01,\n",
              "       7.12986244e-01, 7.03398583e-01, 6.68945289e-01, 6.47464430e-01,\n",
              "       6.30489433e-01, 6.07996702e-01, 5.54658116e-01, 5.15652468e-01,\n",
              "       5.04987656e-01, 4.71102119e-01, 4.52451785e-01, 4.17574423e-01,\n",
              "       4.09696825e-01, 3.76798767e-01, 3.53233608e-01, 3.44672543e-01,\n",
              "       2.96183564e-01, 2.63652938e-01, 2.46568732e-01, 2.03236050e-01,\n",
              "       1.65548088e-01, 1.54698496e-01, 1.13168681e-01, 8.24558627e-02,\n",
              "       5.86176196e-02, 4.01600106e-02, 1.85686752e-02, 1.27451747e-02,\n",
              "       1.04179797e-02, 3.83462877e-03, 3.42947905e-03, 2.79529678e-03,\n",
              "       6.62291791e-04, 2.64213737e-04, 8.58712356e-05, 4.96637527e-05,\n",
              "       1.16477698e-15, 9.98956880e-31, 3.25925004e-32, 3.25925004e-32,\n",
              "       3.25925004e-32, 3.25925004e-32])"
            ]
          },
          "metadata": {},
          "execution_count": 21
        }
      ],
      "source": [
        "#les variances expliquées \n",
        "pca_.explained_variance_"
      ]
    },
    {
      "cell_type": "code",
      "execution_count": null,
      "metadata": {
        "id": "8eBZJgriFBDc",
        "colab": {
          "base_uri": "https://localhost:8080/",
          "height": 1000
        },
        "outputId": "b0b91db5-f343-4175-e499-d782ec334a93"
      },
      "outputs": [
        {
          "output_type": "execute_result",
          "data": {
            "text/plain": [
              "   Principal_Component  Variance_expliquée\n",
              "0                 PC 0        5.065313e+00\n",
              "1                 PC 1        4.491042e+00\n",
              "2                 PC 2        4.243823e+00\n",
              "3                 PC 3        3.967213e+00\n",
              "4                 PC 4        3.245950e+00\n",
              "5                 PC 5        2.957991e+00\n",
              "6                 PC 6        2.493221e+00\n",
              "7                 PC 7        2.458715e+00\n",
              "8                 PC 8        2.246454e+00\n",
              "9                 PC 9        2.166721e+00\n",
              "10               PC 10        1.987691e+00\n",
              "11               PC 11        1.783469e+00\n",
              "12               PC 12        1.670377e+00\n",
              "13               PC 13        1.568259e+00\n",
              "14               PC 14        1.516671e+00\n",
              "15               PC 15        1.418920e+00\n",
              "16               PC 16        1.375492e+00\n",
              "17               PC 17        1.313679e+00\n",
              "18               PC 18        1.262883e+00\n",
              "19               PC 19        1.217966e+00\n",
              "20               PC 20        1.206977e+00\n",
              "21               PC 21        1.196821e+00\n",
              "22               PC 22        1.128814e+00\n",
              "23               PC 23        1.090214e+00\n",
              "24               PC 24        1.070453e+00\n",
              "25               PC 25        1.056840e+00\n",
              "26               PC 26        1.036061e+00\n",
              "27               PC 27        1.015613e+00\n",
              "28               PC 28        1.009401e+00\n",
              "29               PC 29        1.004706e+00\n",
              "30               PC 30        1.000918e+00\n",
              "31               PC 31        9.962166e-01\n",
              "32               PC 32        9.956145e-01\n",
              "33               PC 33        9.815358e-01\n",
              "34               PC 34        9.384189e-01\n",
              "35               PC 35        9.149795e-01\n",
              "36               PC 36        9.114097e-01\n",
              "37               PC 37        8.863593e-01\n",
              "38               PC 38        8.785476e-01\n",
              "39               PC 39        8.710247e-01\n",
              "40               PC 40        8.550338e-01\n",
              "41               PC 41        8.294157e-01\n",
              "42               PC 42        8.195441e-01\n",
              "43               PC 43        8.127611e-01\n",
              "44               PC 44        7.899650e-01\n",
              "45               PC 45        7.642774e-01\n",
              "46               PC 46        7.311713e-01\n",
              "47               PC 47        7.177500e-01\n",
              "48               PC 48        7.129862e-01\n",
              "49               PC 49        7.033986e-01\n",
              "50               PC 50        6.689453e-01\n",
              "51               PC 51        6.474644e-01\n",
              "52               PC 52        6.304894e-01\n",
              "53               PC 53        6.079967e-01\n",
              "54               PC 54        5.546581e-01\n",
              "55               PC 55        5.156525e-01\n",
              "56               PC 56        5.049877e-01\n",
              "57               PC 57        4.711021e-01\n",
              "58               PC 58        4.524518e-01\n",
              "59               PC 59        4.175744e-01\n",
              "60               PC 60        4.096968e-01\n",
              "61               PC 61        3.767988e-01\n",
              "62               PC 62        3.532336e-01\n",
              "63               PC 63        3.446725e-01\n",
              "64               PC 64        2.961836e-01\n",
              "65               PC 65        2.636529e-01\n",
              "66               PC 66        2.465687e-01\n",
              "67               PC 67        2.032361e-01\n",
              "68               PC 68        1.655481e-01\n",
              "69               PC 69        1.546985e-01\n",
              "70               PC 70        1.131687e-01\n",
              "71               PC 71        8.245586e-02\n",
              "72               PC 72        5.861762e-02\n",
              "73               PC 73        4.016001e-02\n",
              "74               PC 74        1.856868e-02\n",
              "75               PC 75        1.274517e-02\n",
              "76               PC 76        1.041798e-02\n",
              "77               PC 77        3.834629e-03\n",
              "78               PC 78        3.429479e-03\n",
              "79               PC 79        2.795297e-03\n",
              "80               PC 80        6.622918e-04\n",
              "81               PC 81        2.642137e-04\n",
              "82               PC 82        8.587124e-05\n",
              "83               PC 83        4.966375e-05\n",
              "84               PC 84        1.164777e-15\n",
              "85               PC 85        9.989569e-31\n",
              "86               PC 86        3.259250e-32\n",
              "87               PC 87        3.259250e-32\n",
              "88               PC 88        3.259250e-32\n",
              "89               PC 89        3.259250e-32"
            ],
            "text/html": [
              "\n",
              "  <div id=\"df-dc487cb9-f380-4272-994a-5338c9a0a6aa\">\n",
              "    <div class=\"colab-df-container\">\n",
              "      <div>\n",
              "<style scoped>\n",
              "    .dataframe tbody tr th:only-of-type {\n",
              "        vertical-align: middle;\n",
              "    }\n",
              "\n",
              "    .dataframe tbody tr th {\n",
              "        vertical-align: top;\n",
              "    }\n",
              "\n",
              "    .dataframe thead th {\n",
              "        text-align: right;\n",
              "    }\n",
              "</style>\n",
              "<table border=\"1\" class=\"dataframe\">\n",
              "  <thead>\n",
              "    <tr style=\"text-align: right;\">\n",
              "      <th></th>\n",
              "      <th>Principal_Component</th>\n",
              "      <th>Variance_expliquée</th>\n",
              "    </tr>\n",
              "  </thead>\n",
              "  <tbody>\n",
              "    <tr>\n",
              "      <th>0</th>\n",
              "      <td>PC 0</td>\n",
              "      <td>5.065313e+00</td>\n",
              "    </tr>\n",
              "    <tr>\n",
              "      <th>1</th>\n",
              "      <td>PC 1</td>\n",
              "      <td>4.491042e+00</td>\n",
              "    </tr>\n",
              "    <tr>\n",
              "      <th>2</th>\n",
              "      <td>PC 2</td>\n",
              "      <td>4.243823e+00</td>\n",
              "    </tr>\n",
              "    <tr>\n",
              "      <th>3</th>\n",
              "      <td>PC 3</td>\n",
              "      <td>3.967213e+00</td>\n",
              "    </tr>\n",
              "    <tr>\n",
              "      <th>4</th>\n",
              "      <td>PC 4</td>\n",
              "      <td>3.245950e+00</td>\n",
              "    </tr>\n",
              "    <tr>\n",
              "      <th>5</th>\n",
              "      <td>PC 5</td>\n",
              "      <td>2.957991e+00</td>\n",
              "    </tr>\n",
              "    <tr>\n",
              "      <th>6</th>\n",
              "      <td>PC 6</td>\n",
              "      <td>2.493221e+00</td>\n",
              "    </tr>\n",
              "    <tr>\n",
              "      <th>7</th>\n",
              "      <td>PC 7</td>\n",
              "      <td>2.458715e+00</td>\n",
              "    </tr>\n",
              "    <tr>\n",
              "      <th>8</th>\n",
              "      <td>PC 8</td>\n",
              "      <td>2.246454e+00</td>\n",
              "    </tr>\n",
              "    <tr>\n",
              "      <th>9</th>\n",
              "      <td>PC 9</td>\n",
              "      <td>2.166721e+00</td>\n",
              "    </tr>\n",
              "    <tr>\n",
              "      <th>10</th>\n",
              "      <td>PC 10</td>\n",
              "      <td>1.987691e+00</td>\n",
              "    </tr>\n",
              "    <tr>\n",
              "      <th>11</th>\n",
              "      <td>PC 11</td>\n",
              "      <td>1.783469e+00</td>\n",
              "    </tr>\n",
              "    <tr>\n",
              "      <th>12</th>\n",
              "      <td>PC 12</td>\n",
              "      <td>1.670377e+00</td>\n",
              "    </tr>\n",
              "    <tr>\n",
              "      <th>13</th>\n",
              "      <td>PC 13</td>\n",
              "      <td>1.568259e+00</td>\n",
              "    </tr>\n",
              "    <tr>\n",
              "      <th>14</th>\n",
              "      <td>PC 14</td>\n",
              "      <td>1.516671e+00</td>\n",
              "    </tr>\n",
              "    <tr>\n",
              "      <th>15</th>\n",
              "      <td>PC 15</td>\n",
              "      <td>1.418920e+00</td>\n",
              "    </tr>\n",
              "    <tr>\n",
              "      <th>16</th>\n",
              "      <td>PC 16</td>\n",
              "      <td>1.375492e+00</td>\n",
              "    </tr>\n",
              "    <tr>\n",
              "      <th>17</th>\n",
              "      <td>PC 17</td>\n",
              "      <td>1.313679e+00</td>\n",
              "    </tr>\n",
              "    <tr>\n",
              "      <th>18</th>\n",
              "      <td>PC 18</td>\n",
              "      <td>1.262883e+00</td>\n",
              "    </tr>\n",
              "    <tr>\n",
              "      <th>19</th>\n",
              "      <td>PC 19</td>\n",
              "      <td>1.217966e+00</td>\n",
              "    </tr>\n",
              "    <tr>\n",
              "      <th>20</th>\n",
              "      <td>PC 20</td>\n",
              "      <td>1.206977e+00</td>\n",
              "    </tr>\n",
              "    <tr>\n",
              "      <th>21</th>\n",
              "      <td>PC 21</td>\n",
              "      <td>1.196821e+00</td>\n",
              "    </tr>\n",
              "    <tr>\n",
              "      <th>22</th>\n",
              "      <td>PC 22</td>\n",
              "      <td>1.128814e+00</td>\n",
              "    </tr>\n",
              "    <tr>\n",
              "      <th>23</th>\n",
              "      <td>PC 23</td>\n",
              "      <td>1.090214e+00</td>\n",
              "    </tr>\n",
              "    <tr>\n",
              "      <th>24</th>\n",
              "      <td>PC 24</td>\n",
              "      <td>1.070453e+00</td>\n",
              "    </tr>\n",
              "    <tr>\n",
              "      <th>25</th>\n",
              "      <td>PC 25</td>\n",
              "      <td>1.056840e+00</td>\n",
              "    </tr>\n",
              "    <tr>\n",
              "      <th>26</th>\n",
              "      <td>PC 26</td>\n",
              "      <td>1.036061e+00</td>\n",
              "    </tr>\n",
              "    <tr>\n",
              "      <th>27</th>\n",
              "      <td>PC 27</td>\n",
              "      <td>1.015613e+00</td>\n",
              "    </tr>\n",
              "    <tr>\n",
              "      <th>28</th>\n",
              "      <td>PC 28</td>\n",
              "      <td>1.009401e+00</td>\n",
              "    </tr>\n",
              "    <tr>\n",
              "      <th>29</th>\n",
              "      <td>PC 29</td>\n",
              "      <td>1.004706e+00</td>\n",
              "    </tr>\n",
              "    <tr>\n",
              "      <th>30</th>\n",
              "      <td>PC 30</td>\n",
              "      <td>1.000918e+00</td>\n",
              "    </tr>\n",
              "    <tr>\n",
              "      <th>31</th>\n",
              "      <td>PC 31</td>\n",
              "      <td>9.962166e-01</td>\n",
              "    </tr>\n",
              "    <tr>\n",
              "      <th>32</th>\n",
              "      <td>PC 32</td>\n",
              "      <td>9.956145e-01</td>\n",
              "    </tr>\n",
              "    <tr>\n",
              "      <th>33</th>\n",
              "      <td>PC 33</td>\n",
              "      <td>9.815358e-01</td>\n",
              "    </tr>\n",
              "    <tr>\n",
              "      <th>34</th>\n",
              "      <td>PC 34</td>\n",
              "      <td>9.384189e-01</td>\n",
              "    </tr>\n",
              "    <tr>\n",
              "      <th>35</th>\n",
              "      <td>PC 35</td>\n",
              "      <td>9.149795e-01</td>\n",
              "    </tr>\n",
              "    <tr>\n",
              "      <th>36</th>\n",
              "      <td>PC 36</td>\n",
              "      <td>9.114097e-01</td>\n",
              "    </tr>\n",
              "    <tr>\n",
              "      <th>37</th>\n",
              "      <td>PC 37</td>\n",
              "      <td>8.863593e-01</td>\n",
              "    </tr>\n",
              "    <tr>\n",
              "      <th>38</th>\n",
              "      <td>PC 38</td>\n",
              "      <td>8.785476e-01</td>\n",
              "    </tr>\n",
              "    <tr>\n",
              "      <th>39</th>\n",
              "      <td>PC 39</td>\n",
              "      <td>8.710247e-01</td>\n",
              "    </tr>\n",
              "    <tr>\n",
              "      <th>40</th>\n",
              "      <td>PC 40</td>\n",
              "      <td>8.550338e-01</td>\n",
              "    </tr>\n",
              "    <tr>\n",
              "      <th>41</th>\n",
              "      <td>PC 41</td>\n",
              "      <td>8.294157e-01</td>\n",
              "    </tr>\n",
              "    <tr>\n",
              "      <th>42</th>\n",
              "      <td>PC 42</td>\n",
              "      <td>8.195441e-01</td>\n",
              "    </tr>\n",
              "    <tr>\n",
              "      <th>43</th>\n",
              "      <td>PC 43</td>\n",
              "      <td>8.127611e-01</td>\n",
              "    </tr>\n",
              "    <tr>\n",
              "      <th>44</th>\n",
              "      <td>PC 44</td>\n",
              "      <td>7.899650e-01</td>\n",
              "    </tr>\n",
              "    <tr>\n",
              "      <th>45</th>\n",
              "      <td>PC 45</td>\n",
              "      <td>7.642774e-01</td>\n",
              "    </tr>\n",
              "    <tr>\n",
              "      <th>46</th>\n",
              "      <td>PC 46</td>\n",
              "      <td>7.311713e-01</td>\n",
              "    </tr>\n",
              "    <tr>\n",
              "      <th>47</th>\n",
              "      <td>PC 47</td>\n",
              "      <td>7.177500e-01</td>\n",
              "    </tr>\n",
              "    <tr>\n",
              "      <th>48</th>\n",
              "      <td>PC 48</td>\n",
              "      <td>7.129862e-01</td>\n",
              "    </tr>\n",
              "    <tr>\n",
              "      <th>49</th>\n",
              "      <td>PC 49</td>\n",
              "      <td>7.033986e-01</td>\n",
              "    </tr>\n",
              "    <tr>\n",
              "      <th>50</th>\n",
              "      <td>PC 50</td>\n",
              "      <td>6.689453e-01</td>\n",
              "    </tr>\n",
              "    <tr>\n",
              "      <th>51</th>\n",
              "      <td>PC 51</td>\n",
              "      <td>6.474644e-01</td>\n",
              "    </tr>\n",
              "    <tr>\n",
              "      <th>52</th>\n",
              "      <td>PC 52</td>\n",
              "      <td>6.304894e-01</td>\n",
              "    </tr>\n",
              "    <tr>\n",
              "      <th>53</th>\n",
              "      <td>PC 53</td>\n",
              "      <td>6.079967e-01</td>\n",
              "    </tr>\n",
              "    <tr>\n",
              "      <th>54</th>\n",
              "      <td>PC 54</td>\n",
              "      <td>5.546581e-01</td>\n",
              "    </tr>\n",
              "    <tr>\n",
              "      <th>55</th>\n",
              "      <td>PC 55</td>\n",
              "      <td>5.156525e-01</td>\n",
              "    </tr>\n",
              "    <tr>\n",
              "      <th>56</th>\n",
              "      <td>PC 56</td>\n",
              "      <td>5.049877e-01</td>\n",
              "    </tr>\n",
              "    <tr>\n",
              "      <th>57</th>\n",
              "      <td>PC 57</td>\n",
              "      <td>4.711021e-01</td>\n",
              "    </tr>\n",
              "    <tr>\n",
              "      <th>58</th>\n",
              "      <td>PC 58</td>\n",
              "      <td>4.524518e-01</td>\n",
              "    </tr>\n",
              "    <tr>\n",
              "      <th>59</th>\n",
              "      <td>PC 59</td>\n",
              "      <td>4.175744e-01</td>\n",
              "    </tr>\n",
              "    <tr>\n",
              "      <th>60</th>\n",
              "      <td>PC 60</td>\n",
              "      <td>4.096968e-01</td>\n",
              "    </tr>\n",
              "    <tr>\n",
              "      <th>61</th>\n",
              "      <td>PC 61</td>\n",
              "      <td>3.767988e-01</td>\n",
              "    </tr>\n",
              "    <tr>\n",
              "      <th>62</th>\n",
              "      <td>PC 62</td>\n",
              "      <td>3.532336e-01</td>\n",
              "    </tr>\n",
              "    <tr>\n",
              "      <th>63</th>\n",
              "      <td>PC 63</td>\n",
              "      <td>3.446725e-01</td>\n",
              "    </tr>\n",
              "    <tr>\n",
              "      <th>64</th>\n",
              "      <td>PC 64</td>\n",
              "      <td>2.961836e-01</td>\n",
              "    </tr>\n",
              "    <tr>\n",
              "      <th>65</th>\n",
              "      <td>PC 65</td>\n",
              "      <td>2.636529e-01</td>\n",
              "    </tr>\n",
              "    <tr>\n",
              "      <th>66</th>\n",
              "      <td>PC 66</td>\n",
              "      <td>2.465687e-01</td>\n",
              "    </tr>\n",
              "    <tr>\n",
              "      <th>67</th>\n",
              "      <td>PC 67</td>\n",
              "      <td>2.032361e-01</td>\n",
              "    </tr>\n",
              "    <tr>\n",
              "      <th>68</th>\n",
              "      <td>PC 68</td>\n",
              "      <td>1.655481e-01</td>\n",
              "    </tr>\n",
              "    <tr>\n",
              "      <th>69</th>\n",
              "      <td>PC 69</td>\n",
              "      <td>1.546985e-01</td>\n",
              "    </tr>\n",
              "    <tr>\n",
              "      <th>70</th>\n",
              "      <td>PC 70</td>\n",
              "      <td>1.131687e-01</td>\n",
              "    </tr>\n",
              "    <tr>\n",
              "      <th>71</th>\n",
              "      <td>PC 71</td>\n",
              "      <td>8.245586e-02</td>\n",
              "    </tr>\n",
              "    <tr>\n",
              "      <th>72</th>\n",
              "      <td>PC 72</td>\n",
              "      <td>5.861762e-02</td>\n",
              "    </tr>\n",
              "    <tr>\n",
              "      <th>73</th>\n",
              "      <td>PC 73</td>\n",
              "      <td>4.016001e-02</td>\n",
              "    </tr>\n",
              "    <tr>\n",
              "      <th>74</th>\n",
              "      <td>PC 74</td>\n",
              "      <td>1.856868e-02</td>\n",
              "    </tr>\n",
              "    <tr>\n",
              "      <th>75</th>\n",
              "      <td>PC 75</td>\n",
              "      <td>1.274517e-02</td>\n",
              "    </tr>\n",
              "    <tr>\n",
              "      <th>76</th>\n",
              "      <td>PC 76</td>\n",
              "      <td>1.041798e-02</td>\n",
              "    </tr>\n",
              "    <tr>\n",
              "      <th>77</th>\n",
              "      <td>PC 77</td>\n",
              "      <td>3.834629e-03</td>\n",
              "    </tr>\n",
              "    <tr>\n",
              "      <th>78</th>\n",
              "      <td>PC 78</td>\n",
              "      <td>3.429479e-03</td>\n",
              "    </tr>\n",
              "    <tr>\n",
              "      <th>79</th>\n",
              "      <td>PC 79</td>\n",
              "      <td>2.795297e-03</td>\n",
              "    </tr>\n",
              "    <tr>\n",
              "      <th>80</th>\n",
              "      <td>PC 80</td>\n",
              "      <td>6.622918e-04</td>\n",
              "    </tr>\n",
              "    <tr>\n",
              "      <th>81</th>\n",
              "      <td>PC 81</td>\n",
              "      <td>2.642137e-04</td>\n",
              "    </tr>\n",
              "    <tr>\n",
              "      <th>82</th>\n",
              "      <td>PC 82</td>\n",
              "      <td>8.587124e-05</td>\n",
              "    </tr>\n",
              "    <tr>\n",
              "      <th>83</th>\n",
              "      <td>PC 83</td>\n",
              "      <td>4.966375e-05</td>\n",
              "    </tr>\n",
              "    <tr>\n",
              "      <th>84</th>\n",
              "      <td>PC 84</td>\n",
              "      <td>1.164777e-15</td>\n",
              "    </tr>\n",
              "    <tr>\n",
              "      <th>85</th>\n",
              "      <td>PC 85</td>\n",
              "      <td>9.989569e-31</td>\n",
              "    </tr>\n",
              "    <tr>\n",
              "      <th>86</th>\n",
              "      <td>PC 86</td>\n",
              "      <td>3.259250e-32</td>\n",
              "    </tr>\n",
              "    <tr>\n",
              "      <th>87</th>\n",
              "      <td>PC 87</td>\n",
              "      <td>3.259250e-32</td>\n",
              "    </tr>\n",
              "    <tr>\n",
              "      <th>88</th>\n",
              "      <td>PC 88</td>\n",
              "      <td>3.259250e-32</td>\n",
              "    </tr>\n",
              "    <tr>\n",
              "      <th>89</th>\n",
              "      <td>PC 89</td>\n",
              "      <td>3.259250e-32</td>\n",
              "    </tr>\n",
              "  </tbody>\n",
              "</table>\n",
              "</div>\n",
              "      <button class=\"colab-df-convert\" onclick=\"convertToInteractive('df-dc487cb9-f380-4272-994a-5338c9a0a6aa')\"\n",
              "              title=\"Convert this dataframe to an interactive table.\"\n",
              "              style=\"display:none;\">\n",
              "        \n",
              "  <svg xmlns=\"http://www.w3.org/2000/svg\" height=\"24px\"viewBox=\"0 0 24 24\"\n",
              "       width=\"24px\">\n",
              "    <path d=\"M0 0h24v24H0V0z\" fill=\"none\"/>\n",
              "    <path d=\"M18.56 5.44l.94 2.06.94-2.06 2.06-.94-2.06-.94-.94-2.06-.94 2.06-2.06.94zm-11 1L8.5 8.5l.94-2.06 2.06-.94-2.06-.94L8.5 2.5l-.94 2.06-2.06.94zm10 10l.94 2.06.94-2.06 2.06-.94-2.06-.94-.94-2.06-.94 2.06-2.06.94z\"/><path d=\"M17.41 7.96l-1.37-1.37c-.4-.4-.92-.59-1.43-.59-.52 0-1.04.2-1.43.59L10.3 9.45l-7.72 7.72c-.78.78-.78 2.05 0 2.83L4 21.41c.39.39.9.59 1.41.59.51 0 1.02-.2 1.41-.59l7.78-7.78 2.81-2.81c.8-.78.8-2.07 0-2.86zM5.41 20L4 18.59l7.72-7.72 1.47 1.35L5.41 20z\"/>\n",
              "  </svg>\n",
              "      </button>\n",
              "      \n",
              "  <style>\n",
              "    .colab-df-container {\n",
              "      display:flex;\n",
              "      flex-wrap:wrap;\n",
              "      gap: 12px;\n",
              "    }\n",
              "\n",
              "    .colab-df-convert {\n",
              "      background-color: #E8F0FE;\n",
              "      border: none;\n",
              "      border-radius: 50%;\n",
              "      cursor: pointer;\n",
              "      display: none;\n",
              "      fill: #1967D2;\n",
              "      height: 32px;\n",
              "      padding: 0 0 0 0;\n",
              "      width: 32px;\n",
              "    }\n",
              "\n",
              "    .colab-df-convert:hover {\n",
              "      background-color: #E2EBFA;\n",
              "      box-shadow: 0px 1px 2px rgba(60, 64, 67, 0.3), 0px 1px 3px 1px rgba(60, 64, 67, 0.15);\n",
              "      fill: #174EA6;\n",
              "    }\n",
              "\n",
              "    [theme=dark] .colab-df-convert {\n",
              "      background-color: #3B4455;\n",
              "      fill: #D2E3FC;\n",
              "    }\n",
              "\n",
              "    [theme=dark] .colab-df-convert:hover {\n",
              "      background-color: #434B5C;\n",
              "      box-shadow: 0px 1px 3px 1px rgba(0, 0, 0, 0.15);\n",
              "      filter: drop-shadow(0px 1px 2px rgba(0, 0, 0, 0.3));\n",
              "      fill: #FFFFFF;\n",
              "    }\n",
              "  </style>\n",
              "\n",
              "      <script>\n",
              "        const buttonEl =\n",
              "          document.querySelector('#df-dc487cb9-f380-4272-994a-5338c9a0a6aa button.colab-df-convert');\n",
              "        buttonEl.style.display =\n",
              "          google.colab.kernel.accessAllowed ? 'block' : 'none';\n",
              "\n",
              "        async function convertToInteractive(key) {\n",
              "          const element = document.querySelector('#df-dc487cb9-f380-4272-994a-5338c9a0a6aa');\n",
              "          const dataTable =\n",
              "            await google.colab.kernel.invokeFunction('convertToInteractive',\n",
              "                                                     [key], {});\n",
              "          if (!dataTable) return;\n",
              "\n",
              "          const docLinkHtml = 'Like what you see? Visit the ' +\n",
              "            '<a target=\"_blank\" href=https://colab.research.google.com/notebooks/data_table.ipynb>data table notebook</a>'\n",
              "            + ' to learn more about interactive tables.';\n",
              "          element.innerHTML = '';\n",
              "          dataTable['output_type'] = 'display_data';\n",
              "          await google.colab.output.renderOutput(dataTable, element);\n",
              "          const docLink = document.createElement('div');\n",
              "          docLink.innerHTML = docLinkHtml;\n",
              "          element.appendChild(docLink);\n",
              "        }\n",
              "      </script>\n",
              "    </div>\n",
              "  </div>\n",
              "  "
            ]
          },
          "metadata": {},
          "execution_count": 22
        }
      ],
      "source": [
        "#composition d'un dataset contenant les composants pca avec leur variance expliquées\n",
        "list_pca = ['PC '+str(i) for i in range(pca_.n_components_)]\n",
        "df_pca = pd.DataFrame(list_pca, columns = [\"Principal_Component\"])\n",
        "df_pca['Variance_expliquée'] = pca_.explained_variance_\n",
        "df_pca"
      ]
    },
    {
      "cell_type": "code",
      "source": [
        "#Affichage du pourcentage de la variance expliquée par composante \n",
        "import seaborn as sns\n",
        "import matplotlib.pyplot as plt\n",
        "sns.set(style=\"whitegrid\")\n",
        "\n",
        "f, ax = plt.subplots(figsize=(10, 11))\n",
        "\n",
        "sns.set_color_codes(\"pastel\")\n",
        "sns.barplot(x=\"Variance_expliquée\", y=\"Principal_Component\", data=df_pca,\n",
        "            label=\"Total\", color=\"b\")"
      ],
      "metadata": {
        "colab": {
          "base_uri": "https://localhost:8080/",
          "height": 684
        },
        "id": "6d8c0SyX84uR",
        "outputId": "efcb68d3-43c8-40ed-ae72-3e982b76358b"
      },
      "execution_count": null,
      "outputs": [
        {
          "output_type": "execute_result",
          "data": {
            "text/plain": [
              "<matplotlib.axes._subplots.AxesSubplot at 0x7f671e8d5110>"
            ]
          },
          "metadata": {},
          "execution_count": 25
        },
        {
          "output_type": "display_data",
          "data": {
            "text/plain": [
              "<Figure size 720x792 with 1 Axes>"
            ],
            "image/png": "[encoded data removed]"
          },
          "metadata": {}
        }
      ]
    },
    {
      "cell_type": "code",
      "execution_count": null,
      "metadata": {
        "colab": {
          "base_uri": "https://localhost:8080/",
          "height": 410
        },
        "id": "jJHdo6ChFE-B",
        "outputId": "c17b4935-6765-4bf0-b96c-e35dab659858"
      },
      "outputs": [
        {
          "output_type": "display_data",
          "data": {
            "text/plain": [
              "<Figure size 792x432 with 1 Axes>"
            ],
            "image/png": "[encoded data removed]"
          },
          "metadata": {}
        }
      ],
      "source": [
        "#fonction qui calcul le nombre de composantes pour un pourcentage d'information\n",
        "scree = pca_.explained_variance_ratio_*100\n",
        "plt.figure(figsize = (11,6))\n",
        "plt.bar(np.arange(len(scree))+1, scree,  color = 'green')\n",
        "plt.plot(np.arange(len(scree))+1, scree.cumsum(),c=\"red\",marker='o')\n",
        "plt.xlabel(\"Composante\")\n",
        "plt.ylabel(\"pourcentage de variance expliquée\")\n",
        "plt.title(\"Eboulis des valeurs propres\")\n",
        "plt.show(block=False)"
      ]
    },
    {
      "cell_type": "code",
      "execution_count": null,
      "metadata": {
        "id": "wYO-ESDNFNuU"
      },
      "outputs": [],
      "source": [
        "from sklearn.decomposition import PCA,TruncatedSVD\n",
        "\n",
        "def _get_number_components(model, threshold):\n",
        "    component_variance = model.explained_variance_ratio_\n",
        "    explained_variance = 0.0\n",
        "    components = 0\n",
        "\n",
        "    for var in component_variance:\n",
        "        explained_variance += var\n",
        "        components += 1\n",
        "        if(explained_variance >= threshold):\n",
        "            break\n",
        "    return components"
      ]
    },
    {
      "cell_type": "code",
      "execution_count": null,
      "metadata": {
        "colab": {
          "base_uri": "https://localhost:8080/"
        },
        "id": "0a74aLYWFQz9",
        "outputId": "80a29bb2-a5bd-4f5c-bd56-fa534b477de7"
      },
      "outputs": [
        {
          "output_type": "execute_result",
          "data": {
            "text/plain": [
              "40"
            ]
          },
          "metadata": {},
          "execution_count": 28
        }
      ],
      "source": [
        "#calcul du nombre des composants équivalent à 80% de l'information\n",
        "pca_ = PCA()\n",
        "train_pca = pca_.fit_transform(X_scaled)\n",
        "\n",
        "components = _get_number_components(pca_, threshold=0.8)\n",
        "components"
      ]
    },
    {
      "cell_type": "code",
      "execution_count": null,
      "metadata": {
        "id": "MsSdjjLYFb0d"
      },
      "outputs": [],
      "source": [
        "#Composition d'un dataset à partir des nouvelles compossantes\n",
        "obj_pca = model = PCA(n_components = components)\n",
        "train_pca = obj_pca.fit_transform(X_scaled)\n",
        "df_train_pca = pd.DataFrame(train_pca) \n",
        "test_pca = obj_pca.transform(test_scaled)\n",
        "df_test_pca = pd.DataFrame(test_pca, index = X_test.index)"
      ]
    },
    {
      "cell_type": "code",
      "execution_count": null,
      "metadata": {
        "colab": {
          "base_uri": "https://localhost:8080/"
        },
        "id": "GFjKs1aYFga6",
        "outputId": "bc43e947-ff62-4ade-8777-7b37a1242f48"
      },
      "outputs": [
        {
          "name": "stdout",
          "output_type": "stream",
          "text": [
            "{'C': 0.001, 'penalty': 'l2'}\n"
          ]
        }
      ],
      "source": [
        "clf = LogisticRegression()\n",
        "grid_values = {'penalty': ['l1', 'l2'],'C':[0.001,.009,0.01,.09,1,5,10,25]}\n",
        "grid_clf_acc = GridSearchCV(clf, param_grid = grid_values,scoring = 'recall')\n",
        "grid_clf_acc.fit(df_train_pca, y_res)\n",
        "print(grid_clf_acc.best_params_)"
      ]
    },
    {
      "cell_type": "code",
      "execution_count": null,
      "metadata": {
        "colab": {
          "base_uri": "https://localhost:8080/"
        },
        "id": "OUXg-94eFrg1",
        "outputId": "8985e28e-95f7-4c5d-fb1e-216aff303bda"
      },
      "outputs": [
        {
          "output_type": "execute_result",
          "data": {
            "text/plain": [
              "0.9498229043683589"
            ]
          },
          "metadata": {},
          "execution_count": 30
        }
      ],
      "source": [
        "logreg = LogisticRegression(C = 0.001, penalty = 'l2')\n",
        "logreg.fit(df_train_pca,y_res)\n",
        "\n",
        "y_logreg=logreg.predict(df_test_pca)\n",
        "score_Logreg = logreg.score(df_test_pca, y_test)\n",
        "score_Logreg\n"
      ]
    },
    {
      "cell_type": "code",
      "execution_count": null,
      "metadata": {
        "colab": {
          "base_uri": "https://localhost:8080/"
        },
        "id": "T-FNSg7jFzau",
        "outputId": "93469138-a68c-4672-b40e-6bad1299ff11"
      },
      "outputs": [
        {
          "output_type": "stream",
          "name": "stdout",
          "text": [
            "              precision    recall  f1-score   support\n",
            "\n",
            "           0       0.99      0.95      0.97      1527\n",
            "           1       0.68      0.92      0.78       167\n",
            "\n",
            "    accuracy                           0.95      1694\n",
            "   macro avg       0.84      0.93      0.88      1694\n",
            "weighted avg       0.96      0.95      0.95      1694\n",
            "\n"
          ]
        }
      ],
      "source": [
        "cr_Logreg =classification_report(y_test, y_logreg) \n",
        "print(cr_Logreg)"
      ]
    },
    {
      "cell_type": "code",
      "source": [
        "from sklearn.metrics import plot_confusion_matrix\n",
        "plot_confusion_matrix(logreg, df_test_pca, y_test)  \n",
        "plt.show()"
      ],
      "metadata": {
        "colab": {
          "base_uri": "https://localhost:8080/",
          "height": 285
        },
        "id": "vS7WWziKJYmp",
        "outputId": "1e3507d8-acce-40e5-87f8-5986cf849f39"
      },
      "execution_count": null,
      "outputs": [
        {
          "output_type": "display_data",
          "data": {
            "text/plain": [
              "<Figure size 432x288 with 2 Axes>"
            ],
            "image/png": "[encoded data removed]"
          },
          "metadata": {}
        }
      ]
    },
    {
      "cell_type": "code",
      "execution_count": null,
      "metadata": {
        "colab": {
          "base_uri": "https://localhost:8080/"
        },
        "id": "b_UyrMYDGPHr",
        "outputId": "95f9d025-5b42-41e8-b7d2-f18ef3fcc63b"
      },
      "outputs": [
        {
          "output_type": "stream",
          "name": "stdout",
          "text": [
            "Fitting 5 folds for each of 50 candidates, totalling 250 fits\n",
            "[CV 1/5] END ........C=0.1, gamma=1, kernel=rbf;, score=0.874 total time=   1.2s\n",
            "[CV 2/5] END ........C=0.1, gamma=1, kernel=rbf;, score=0.869 total time=   1.1s\n",
            "[CV 3/5] END ........C=0.1, gamma=1, kernel=rbf;, score=0.856 total time=   1.1s\n",
            "[CV 4/5] END ........C=0.1, gamma=1, kernel=rbf;, score=0.846 total time=   1.1s\n",
            "[CV 5/5] END ........C=0.1, gamma=1, kernel=rbf;, score=0.866 total time=   1.1s\n",
            "[CV 1/5] END .....C=0.1, gamma=1, kernel=linear;, score=0.928 total time=   0.8s\n",
            "[CV 2/5] END .....C=0.1, gamma=1, kernel=linear;, score=0.923 total time=   1.4s\n",
            "[CV 3/5] END .....C=0.1, gamma=1, kernel=linear;, score=0.911 total time=   1.5s\n",
            "[CV 4/5] END .....C=0.1, gamma=1, kernel=linear;, score=0.924 total time=   2.2s\n",
            "[CV 5/5] END .....C=0.1, gamma=1, kernel=linear;, score=0.925 total time=   1.4s\n",
            "[CV 1/5] END ......C=0.1, gamma=0.1, kernel=rbf;, score=0.869 total time=   0.9s\n",
            "[CV 2/5] END ......C=0.1, gamma=0.1, kernel=rbf;, score=0.886 total time=   1.0s\n",
            "[CV 3/5] END ......C=0.1, gamma=0.1, kernel=rbf;, score=0.865 total time=   0.9s\n",
            "[CV 4/5] END ......C=0.1, gamma=0.1, kernel=rbf;, score=0.893 total time=   0.9s\n",
            "[CV 5/5] END ......C=0.1, gamma=0.1, kernel=rbf;, score=0.885 total time=   0.9s\n",
            "[CV 1/5] END ...C=0.1, gamma=0.1, kernel=linear;, score=0.928 total time=   0.9s\n",
            "[CV 2/5] END ...C=0.1, gamma=0.1, kernel=linear;, score=0.923 total time=   1.4s\n",
            "[CV 3/5] END ...C=0.1, gamma=0.1, kernel=linear;, score=0.911 total time=   1.6s\n",
            "[CV 4/5] END ...C=0.1, gamma=0.1, kernel=linear;, score=0.924 total time=   2.2s\n",
            "[CV 5/5] END ...C=0.1, gamma=0.1, kernel=linear;, score=0.925 total time=   1.4s\n",
            "[CV 1/5] END .....C=0.1, gamma=0.01, kernel=rbf;, score=0.914 total time=   1.2s\n",
            "[CV 2/5] END .....C=0.1, gamma=0.01, kernel=rbf;, score=0.911 total time=   1.2s\n",
            "[CV 3/5] END .....C=0.1, gamma=0.01, kernel=rbf;, score=0.897 total time=   1.1s\n",
            "[CV 4/5] END .....C=0.1, gamma=0.01, kernel=rbf;, score=0.912 total time=   1.2s\n",
            "[CV 5/5] END .....C=0.1, gamma=0.01, kernel=rbf;, score=0.911 total time=   1.1s\n",
            "[CV 1/5] END ..C=0.1, gamma=0.01, kernel=linear;, score=0.928 total time=   0.8s\n",
            "[CV 2/5] END ..C=0.1, gamma=0.01, kernel=linear;, score=0.923 total time=   1.3s\n",
            "[CV 3/5] END ..C=0.1, gamma=0.01, kernel=linear;, score=0.911 total time=   1.6s\n",
            "[CV 4/5] END ..C=0.1, gamma=0.01, kernel=linear;, score=0.924 total time=   2.2s\n",
            "[CV 5/5] END ..C=0.1, gamma=0.01, kernel=linear;, score=0.925 total time=   1.4s\n",
            "[CV 1/5] END ....C=0.1, gamma=0.001, kernel=rbf;, score=0.825 total time=   2.2s\n",
            "[CV 2/5] END ....C=0.1, gamma=0.001, kernel=rbf;, score=0.791 total time=   2.2s\n",
            "[CV 3/5] END ....C=0.1, gamma=0.001, kernel=rbf;, score=0.783 total time=   2.2s\n",
            "[CV 4/5] END ....C=0.1, gamma=0.001, kernel=rbf;, score=0.796 total time=   2.1s\n",
            "[CV 5/5] END ....C=0.1, gamma=0.001, kernel=rbf;, score=0.796 total time=   2.2s\n",
            "[CV 1/5] END .C=0.1, gamma=0.001, kernel=linear;, score=0.928 total time=   0.8s\n",
            "[CV 2/5] END .C=0.1, gamma=0.001, kernel=linear;, score=0.923 total time=   1.4s\n",
            "[CV 3/5] END .C=0.1, gamma=0.001, kernel=linear;, score=0.911 total time=   1.6s\n",
            "[CV 4/5] END .C=0.1, gamma=0.001, kernel=linear;, score=0.924 total time=   2.2s\n",
            "[CV 5/5] END .C=0.1, gamma=0.001, kernel=linear;, score=0.925 total time=   1.3s\n",
            "[CV 1/5] END ...C=0.1, gamma=0.0001, kernel=rbf;, score=0.541 total time=   2.7s\n",
            "[CV 2/5] END ...C=0.1, gamma=0.0001, kernel=rbf;, score=0.600 total time=   2.6s\n",
            "[CV 3/5] END ...C=0.1, gamma=0.0001, kernel=rbf;, score=0.556 total time=   2.7s\n",
            "[CV 4/5] END ...C=0.1, gamma=0.0001, kernel=rbf;, score=0.542 total time=   2.6s\n",
            "[CV 5/5] END ...C=0.1, gamma=0.0001, kernel=rbf;, score=0.599 total time=   2.5s\n",
            "[CV 1/5] END C=0.1, gamma=0.0001, kernel=linear;, score=0.928 total time=   0.9s\n",
            "[CV 2/5] END C=0.1, gamma=0.0001, kernel=linear;, score=0.923 total time=   1.4s\n",
            "[CV 3/5] END C=0.1, gamma=0.0001, kernel=linear;, score=0.911 total time=   1.6s\n",
            "[CV 4/5] END C=0.1, gamma=0.0001, kernel=linear;, score=0.924 total time=   2.2s\n",
            "[CV 5/5] END C=0.1, gamma=0.0001, kernel=linear;, score=0.925 total time=   1.4s\n",
            "[CV 1/5] END ..........C=1, gamma=1, kernel=rbf;, score=0.907 total time=   1.0s\n",
            "[CV 2/5] END ..........C=1, gamma=1, kernel=rbf;, score=0.905 total time=   1.1s\n",
            "[CV 3/5] END ..........C=1, gamma=1, kernel=rbf;, score=0.889 total time=   1.0s\n",
            "[CV 4/5] END ..........C=1, gamma=1, kernel=rbf;, score=0.915 total time=   1.0s\n",
            "[CV 5/5] END ..........C=1, gamma=1, kernel=rbf;, score=0.909 total time=   1.0s\n",
            "[CV 1/5] END .......C=1, gamma=1, kernel=linear;, score=0.930 total time=   9.1s\n",
            "[CV 2/5] END .......C=1, gamma=1, kernel=linear;, score=0.921 total time=  10.0s\n",
            "[CV 3/5] END .......C=1, gamma=1, kernel=linear;, score=0.911 total time=  14.7s\n",
            "[CV 4/5] END .......C=1, gamma=1, kernel=linear;, score=0.925 total time=  12.8s\n",
            "[CV 5/5] END .......C=1, gamma=1, kernel=linear;, score=0.924 total time=  12.0s\n",
            "[CV 1/5] END ........C=1, gamma=0.1, kernel=rbf;, score=0.924 total time=   0.9s\n",
            "[CV 2/5] END ........C=1, gamma=0.1, kernel=rbf;, score=0.922 total time=   1.0s\n",
            "[CV 3/5] END ........C=1, gamma=0.1, kernel=rbf;, score=0.910 total time=   0.9s\n",
            "[CV 4/5] END ........C=1, gamma=0.1, kernel=rbf;, score=0.922 total time=   0.9s\n",
            "[CV 5/5] END ........C=1, gamma=0.1, kernel=rbf;, score=0.921 total time=   0.9s\n",
            "[CV 1/5] END .....C=1, gamma=0.1, kernel=linear;, score=0.930 total time=   8.9s\n",
            "[CV 2/5] END .....C=1, gamma=0.1, kernel=linear;, score=0.921 total time=  10.1s\n",
            "[CV 3/5] END .....C=1, gamma=0.1, kernel=linear;, score=0.911 total time=  14.7s\n",
            "[CV 4/5] END .....C=1, gamma=0.1, kernel=linear;, score=0.925 total time=  12.9s\n",
            "[CV 5/5] END .....C=1, gamma=0.1, kernel=linear;, score=0.924 total time=  12.8s\n",
            "[CV 1/5] END .......C=1, gamma=0.01, kernel=rbf;, score=0.938 total time=   0.8s\n",
            "[CV 2/5] END .......C=1, gamma=0.01, kernel=rbf;, score=0.928 total time=   0.8s\n",
            "[CV 3/5] END .......C=1, gamma=0.01, kernel=rbf;, score=0.915 total time=   0.7s\n",
            "[CV 4/5] END .......C=1, gamma=0.01, kernel=rbf;, score=0.931 total time=   0.7s\n",
            "[CV 5/5] END .......C=1, gamma=0.01, kernel=rbf;, score=0.933 total time=   0.8s\n",
            "[CV 1/5] END ....C=1, gamma=0.01, kernel=linear;, score=0.930 total time=   8.9s\n",
            "[CV 2/5] END ....C=1, gamma=0.01, kernel=linear;, score=0.921 total time=  10.0s\n",
            "[CV 3/5] END ....C=1, gamma=0.01, kernel=linear;, score=0.911 total time=  14.6s\n",
            "[CV 4/5] END ....C=1, gamma=0.01, kernel=linear;, score=0.925 total time=  12.9s\n",
            "[CV 5/5] END ....C=1, gamma=0.01, kernel=linear;, score=0.924 total time=  12.0s\n",
            "[CV 1/5] END ......C=1, gamma=0.001, kernel=rbf;, score=0.935 total time=   1.2s\n",
            "[CV 2/5] END ......C=1, gamma=0.001, kernel=rbf;, score=0.923 total time=   1.2s\n",
            "[CV 3/5] END ......C=1, gamma=0.001, kernel=rbf;, score=0.912 total time=   1.1s\n",
            "[CV 4/5] END ......C=1, gamma=0.001, kernel=rbf;, score=0.925 total time=   1.1s\n",
            "[CV 5/5] END ......C=1, gamma=0.001, kernel=rbf;, score=0.926 total time=   1.1s\n",
            "[CV 1/5] END ...C=1, gamma=0.001, kernel=linear;, score=0.930 total time=   8.9s\n",
            "[CV 2/5] END ...C=1, gamma=0.001, kernel=linear;, score=0.921 total time=   9.9s\n",
            "[CV 3/5] END ...C=1, gamma=0.001, kernel=linear;, score=0.911 total time=  14.6s\n",
            "[CV 4/5] END ...C=1, gamma=0.001, kernel=linear;, score=0.925 total time=  12.8s\n",
            "[CV 5/5] END ...C=1, gamma=0.001, kernel=linear;, score=0.924 total time=  12.0s\n",
            "[CV 1/5] END .....C=1, gamma=0.0001, kernel=rbf;, score=0.825 total time=   2.1s\n",
            "[CV 2/5] END .....C=1, gamma=0.0001, kernel=rbf;, score=0.791 total time=   2.2s\n",
            "[CV 3/5] END .....C=1, gamma=0.0001, kernel=rbf;, score=0.785 total time=   2.2s\n",
            "[CV 4/5] END .....C=1, gamma=0.0001, kernel=rbf;, score=0.796 total time=   2.2s\n",
            "[CV 5/5] END .....C=1, gamma=0.0001, kernel=rbf;, score=0.795 total time=   2.1s\n",
            "[CV 1/5] END ..C=1, gamma=0.0001, kernel=linear;, score=0.930 total time=   8.9s\n",
            "[CV 2/5] END ..C=1, gamma=0.0001, kernel=linear;, score=0.921 total time=  10.2s\n",
            "[CV 3/5] END ..C=1, gamma=0.0001, kernel=linear;, score=0.911 total time=  14.7s\n",
            "[CV 4/5] END ..C=1, gamma=0.0001, kernel=linear;, score=0.925 total time=  12.8s\n",
            "[CV 5/5] END ..C=1, gamma=0.0001, kernel=linear;, score=0.924 total time=  12.1s\n",
            "[CV 1/5] END .........C=10, gamma=1, kernel=rbf;, score=0.907 total time=   1.5s\n",
            "[CV 2/5] END .........C=10, gamma=1, kernel=rbf;, score=0.905 total time=   1.6s\n",
            "[CV 3/5] END .........C=10, gamma=1, kernel=rbf;, score=0.890 total time=   1.5s\n",
            "[CV 4/5] END .........C=10, gamma=1, kernel=rbf;, score=0.911 total time=   1.5s\n",
            "[CV 5/5] END .........C=10, gamma=1, kernel=rbf;, score=0.910 total time=   1.9s\n",
            "[CV 1/5] END ......C=10, gamma=1, kernel=linear;, score=0.930 total time= 2.6min\n",
            "[CV 2/5] END ......C=10, gamma=1, kernel=linear;, score=0.921 total time= 4.6min\n",
            "[CV 3/5] END ......C=10, gamma=1, kernel=linear;, score=0.912 total time= 5.1min\n",
            "[CV 4/5] END ......C=10, gamma=1, kernel=linear;, score=0.925 total time= 5.9min\n",
            "[CV 5/5] END ......C=10, gamma=1, kernel=linear;, score=0.926 total time= 3.4min\n",
            "[CV 1/5] END .......C=10, gamma=0.1, kernel=rbf;, score=0.925 total time=   1.3s\n",
            "[CV 2/5] END .......C=10, gamma=0.1, kernel=rbf;, score=0.926 total time=   1.2s\n",
            "[CV 3/5] END .......C=10, gamma=0.1, kernel=rbf;, score=0.912 total time=   1.3s\n",
            "[CV 4/5] END .......C=10, gamma=0.1, kernel=rbf;, score=0.924 total time=   1.3s\n",
            "[CV 5/5] END .......C=10, gamma=0.1, kernel=rbf;, score=0.923 total time=   1.8s\n",
            "[CV 1/5] END ....C=10, gamma=0.1, kernel=linear;, score=0.930 total time= 2.5min\n",
            "[CV 2/5] END ....C=10, gamma=0.1, kernel=linear;, score=0.921 total time= 4.6min\n",
            "[CV 3/5] END ....C=10, gamma=0.1, kernel=linear;, score=0.912 total time= 5.1min\n",
            "[CV 4/5] END ....C=10, gamma=0.1, kernel=linear;, score=0.925 total time= 5.9min\n",
            "[CV 5/5] END ....C=10, gamma=0.1, kernel=linear;, score=0.926 total time= 3.4min\n",
            "[CV 1/5] END ......C=10, gamma=0.01, kernel=rbf;, score=0.934 total time=   0.8s\n",
            "[CV 2/5] END ......C=10, gamma=0.01, kernel=rbf;, score=0.928 total time=   0.8s\n",
            "[CV 3/5] END ......C=10, gamma=0.01, kernel=rbf;, score=0.916 total time=   0.7s\n",
            "[CV 4/5] END ......C=10, gamma=0.01, kernel=rbf;, score=0.931 total time=   0.7s\n",
            "[CV 5/5] END ......C=10, gamma=0.01, kernel=rbf;, score=0.932 total time=   0.8s\n",
            "[CV 1/5] END ...C=10, gamma=0.01, kernel=linear;, score=0.930 total time= 2.6min\n",
            "[CV 2/5] END ...C=10, gamma=0.01, kernel=linear;, score=0.921 total time= 4.6min\n",
            "[CV 3/5] END ...C=10, gamma=0.01, kernel=linear;, score=0.912 total time= 5.1min\n",
            "[CV 4/5] END ...C=10, gamma=0.01, kernel=linear;, score=0.925 total time= 5.9min\n",
            "[CV 5/5] END ...C=10, gamma=0.01, kernel=linear;, score=0.926 total time= 3.4min\n",
            "[CV 1/5] END .....C=10, gamma=0.001, kernel=rbf;, score=0.941 total time=   0.8s\n",
            "[CV 2/5] END .....C=10, gamma=0.001, kernel=rbf;, score=0.926 total time=   0.9s\n",
            "[CV 3/5] END .....C=10, gamma=0.001, kernel=rbf;, score=0.914 total time=   0.8s\n",
            "[CV 4/5] END .....C=10, gamma=0.001, kernel=rbf;, score=0.928 total time=   0.8s\n",
            "[CV 5/5] END .....C=10, gamma=0.001, kernel=rbf;, score=0.929 total time=   0.8s\n",
            "[CV 1/5] END ..C=10, gamma=0.001, kernel=linear;, score=0.930 total time= 2.6min\n",
            "[CV 2/5] END ..C=10, gamma=0.001, kernel=linear;, score=0.921 total time= 4.7min\n",
            "[CV 3/5] END ..C=10, gamma=0.001, kernel=linear;, score=0.912 total time= 5.1min\n",
            "[CV 4/5] END ..C=10, gamma=0.001, kernel=linear;, score=0.925 total time= 5.9min\n",
            "[CV 5/5] END ..C=10, gamma=0.001, kernel=linear;, score=0.926 total time= 3.4min\n",
            "[CV 1/5] END ....C=10, gamma=0.0001, kernel=rbf;, score=0.934 total time=   1.3s\n",
            "[CV 2/5] END ....C=10, gamma=0.0001, kernel=rbf;, score=0.921 total time=   1.4s\n",
            "[CV 3/5] END ....C=10, gamma=0.0001, kernel=rbf;, score=0.909 total time=   1.3s\n",
            "[CV 4/5] END ....C=10, gamma=0.0001, kernel=rbf;, score=0.924 total time=   1.3s\n",
            "[CV 5/5] END ....C=10, gamma=0.0001, kernel=rbf;, score=0.923 total time=   1.3s\n",
            "[CV 1/5] END .C=10, gamma=0.0001, kernel=linear;, score=0.930 total time= 2.5min\n",
            "[CV 2/5] END .C=10, gamma=0.0001, kernel=linear;, score=0.921 total time= 4.6min\n",
            "[CV 3/5] END .C=10, gamma=0.0001, kernel=linear;, score=0.912 total time= 5.1min\n",
            "[CV 4/5] END .C=10, gamma=0.0001, kernel=linear;, score=0.925 total time= 5.9min\n"
          ]
        }
      ],
      "source": [
        "param_grid = {'C': [0.1, 10, 100, 1000],\n",
        "              'gamma': [ 0.1, 0.001, 0.0001],\n",
        "              'kernel': ['rbf','linear']}\n",
        "grid = GridSearchCV(svm.SVC(), param_grid, refit = True, verbose = 3)\n",
        "grid.fit(df_train_pca, y_res)\n",
        "print(grid.best_params_)\n"
      ]
    },
    {
      "cell_type": "code",
      "source": [
        "clf = svm.SVC(kernel='rbf', C=1, gamma= 0.01)\n",
        "clf.fit(df_train_pca, y_res)\n",
        "y_svm = clf.predict(df_test_pca)\n",
        "score_Svm = clf.score(df_test_pca, y_test)\n",
        "score_Svm"
      ],
      "metadata": {
        "id": "xADRKyT4fTBa",
        "colab": {
          "base_uri": "https://localhost:8080/"
        },
        "outputId": "2e646b26-ddff-4873-f4c5-832a62e1b0c2"
      },
      "execution_count": null,
      "outputs": [
        {
          "output_type": "execute_result",
          "data": {
            "text/plain": [
              "0.9462809917355371"
            ]
          },
          "metadata": {},
          "execution_count": 33
        }
      ]
    },
    {
      "cell_type": "code",
      "source": [
        "cr_Svm = classification_report(y_test, y_svm)\n",
        "print(cr_Svm)"
      ],
      "metadata": {
        "colab": {
          "base_uri": "https://localhost:8080/"
        },
        "id": "JvQeGdS82j9c",
        "outputId": "f4e3330b-2adf-450d-fbca-4acb85e77d4f"
      },
      "execution_count": null,
      "outputs": [
        {
          "output_type": "stream",
          "name": "stdout",
          "text": [
            "              precision    recall  f1-score   support\n",
            "\n",
            "           0       0.98      0.96      0.97      1527\n",
            "           1       0.69      0.82      0.75       167\n",
            "\n",
            "    accuracy                           0.95      1694\n",
            "   macro avg       0.84      0.89      0.86      1694\n",
            "weighted avg       0.95      0.95      0.95      1694\n",
            "\n"
          ]
        }
      ]
    },
    {
      "cell_type": "code",
      "source": [
        "plot_confusion_matrix(clf, df_test_pca, y_test)  \n",
        "plt.show()"
      ],
      "metadata": {
        "colab": {
          "base_uri": "https://localhost:8080/",
          "height": 279
        },
        "id": "HA8Gpqb22pB4",
        "outputId": "5dc6e37d-93d0-4a5a-f3b5-8be6eccd549a"
      },
      "execution_count": null,
      "outputs": [
        {
          "output_type": "display_data",
          "data": {
            "text/plain": [
              "<Figure size 432x288 with 2 Axes>"
            ],
            "image/png": "[encoded data removed]"
          },
          "metadata": {
            "needs_background": "light"
          }
        }
      ]
    },
    {
      "cell_type": "code",
      "source": [
        "params = {'activation': ['relu', 'tanh', 'logistic', 'identity'],\n",
        "          'hidden_layer_sizes': [(100,), (50,100,), (50,75,100,)],\n",
        "          'solver': ['adam', 'sgd', 'lbfgs'],\n",
        "          'learning_rate' : ['constant', 'adaptive', 'invscaling']\n",
        "         }\n",
        "mlp_classif_grid = GridSearchCV(MLPClassifier(random_state=123), param_grid=params, n_jobs=-1, cv=5, verbose=5)\n",
        "mlp_classif_grid.fit(df_train_pca,y_res)\n",
        "print(mlp_classif_grid.best_params_)"
      ],
      "metadata": {
        "colab": {
          "base_uri": "https://localhost:8080/"
        },
        "id": "IJTY73W93SRR",
        "outputId": "421f870e-869f-41df-9b03-1e82c051b9e0"
      },
      "execution_count": null,
      "outputs": [
        {
          "output_type": "stream",
          "name": "stdout",
          "text": [
            "Fitting 5 folds for each of 108 candidates, totalling 540 fits\n",
            "{'activation': 'relu', 'hidden_layer_sizes': (50, 100), 'learning_rate': 'constant', 'solver': 'adam'}\n"
          ]
        }
      ]
    },
    {
      "cell_type": "code",
      "source": [
        "classifier = MLPClassifier(hidden_layer_sizes=(50,100),activation = 'relu',random_state=123,learning_rate='constant',solver='adam')\n",
        "classifier.fit(df_train_pca,y_res)\n",
        "y_Mlp=classifier.predict(df_test_pca)\n",
        "score_Mlp=classifier.score(df_test_pca,y_test)\n",
        "score_Mlp"
      ],
      "metadata": {
        "colab": {
          "base_uri": "https://localhost:8080/"
        },
        "id": "PTlaGouL3dj7",
        "outputId": "8a0df13f-056e-4063-fa2d-88bfb918bd3f"
      },
      "execution_count": null,
      "outputs": [
        {
          "output_type": "execute_result",
          "data": {
            "text/plain": [
              "0.9492325855962219"
            ]
          },
          "metadata": {},
          "execution_count": 35
        }
      ]
    },
    {
      "cell_type": "code",
      "source": [
        "cr_Mlp = classification_report(y_test, y_Mlp)\n",
        "print(cr_Mlp)"
      ],
      "metadata": {
        "colab": {
          "base_uri": "https://localhost:8080/"
        },
        "id": "t9V3YhqjDdZA",
        "outputId": "961b99c5-3aa1-4859-cf43-3b08cc0b60d7"
      },
      "execution_count": null,
      "outputs": [
        {
          "output_type": "stream",
          "name": "stdout",
          "text": [
            "              precision    recall  f1-score   support\n",
            "\n",
            "           0       0.98      0.96      0.97      1527\n",
            "           1       0.70      0.84      0.77       167\n",
            "\n",
            "    accuracy                           0.95      1694\n",
            "   macro avg       0.84      0.90      0.87      1694\n",
            "weighted avg       0.95      0.95      0.95      1694\n",
            "\n"
          ]
        }
      ]
    },
    {
      "cell_type": "code",
      "source": [
        "plot_confusion_matrix(classifier, df_test_pca, y_test)  \n",
        "plt.show()"
      ],
      "metadata": {
        "colab": {
          "base_uri": "https://localhost:8080/",
          "height": 285
        },
        "id": "0e_lQYk43mUP",
        "outputId": "834d8e98-af30-44fe-99b2-daa13706f648"
      },
      "execution_count": null,
      "outputs": [
        {
          "output_type": "display_data",
          "data": {
            "text/plain": [
              "<Figure size 432x288 with 2 Axes>"
            ],
            "image/png": "[encoded data removed]"
          },
          "metadata": {}
        }
      ]
    },
    {
      "cell_type": "code",
      "source": [
        "param_grid = {'n_neighbors' : np.arange(1,50)}\n",
        "knn =  KNeighborsClassifier()\n",
        "knn_cv = GridSearchCV(knn, param_grid, cv=5)\n",
        "knn_cv.fit(df_train_pca,y_res)\n",
        "print(\"The best paramter we have is: {}\" .format(knn_cv.best_params_))"
      ],
      "metadata": {
        "colab": {
          "base_uri": "https://localhost:8080/"
        },
        "id": "VArGvNo1Dpr-",
        "outputId": "e9bf9852-53a1-41aa-afd9-80c9b14bb0f1"
      },
      "execution_count": null,
      "outputs": [
        {
          "output_type": "stream",
          "name": "stdout",
          "text": [
            "The best paramter we have is: {'n_neighbors': 6}\n"
          ]
        }
      ]
    },
    {
      "cell_type": "code",
      "source": [
        "KNN = KNeighborsClassifier(n_neighbors=6)\n",
        "KNN.fit(df_train_pca,y_res)\n",
        "y_Knn = KNN.predict(df_test_pca)\n",
        "score_Knn = KNN.score(df_test_pca, y_test)\n",
        "score_Knn"
      ],
      "metadata": {
        "id": "xmQT75PYEvOO",
        "outputId": "d752e596-0a27-4f7c-d82d-399929ef3726",
        "colab": {
          "base_uri": "https://localhost:8080/"
        }
      },
      "execution_count": null,
      "outputs": [
        {
          "output_type": "execute_result",
          "data": {
            "text/plain": [
              "0.9403778040141676"
            ]
          },
          "metadata": {},
          "execution_count": 38
        }
      ]
    },
    {
      "cell_type": "code",
      "source": [
        "cr_Knn = classification_report(y_test, y_Knn)\n",
        "print(cr_Knn)"
      ],
      "metadata": {
        "id": "Ewm1ZQ9VE1Di",
        "outputId": "5befea4b-0fa2-453e-c68b-5bed871eb82c",
        "colab": {
          "base_uri": "https://localhost:8080/"
        }
      },
      "execution_count": null,
      "outputs": [
        {
          "output_type": "stream",
          "name": "stdout",
          "text": [
            "              precision    recall  f1-score   support\n",
            "\n",
            "           0       0.98      0.95      0.97      1527\n",
            "           1       0.66      0.81      0.73       167\n",
            "\n",
            "    accuracy                           0.94      1694\n",
            "   macro avg       0.82      0.88      0.85      1694\n",
            "weighted avg       0.95      0.94      0.94      1694\n",
            "\n"
          ]
        }
      ]
    },
    {
      "cell_type": "code",
      "source": [
        "plot_confusion_matrix(KNN, df_test_pca, y_test)  \n",
        "plt.show()"
      ],
      "metadata": {
        "colab": {
          "base_uri": "https://localhost:8080/",
          "height": 285
        },
        "id": "SHjD6oj7KHtH",
        "outputId": "d1b7c6f7-2c57-4c43-ebc3-509beb71446a"
      },
      "execution_count": null,
      "outputs": [
        {
          "output_type": "display_data",
          "data": {
            "text/plain": [
              "<Figure size 432x288 with 2 Axes>"
            ],
            "image/png": "[encoded data removed]"
          },
          "metadata": {}
        }
      ]
    },
    {
      "cell_type": "code",
      "source": [
        "model_rf = RandomForestClassifier(n_estimators= 1000, max_depth=150)\n",
        "model_rf.fit(df_train_pca,y_res)\n",
        "score_rf = model_rf.score(df_test_pca,y_test)\n",
        "y_pred_rf = model_rf.predict(df_test_pca)\n",
        "print(score_rf)\n",
        "print(classification_report(y_test, y_pred_rf))"
      ],
      "metadata": {
        "id": "vTchf9urFcWA",
        "outputId": "7bcc212a-94e3-4906-f518-412c8837ae19",
        "colab": {
          "base_uri": "https://localhost:8080/"
        }
      },
      "execution_count": null,
      "outputs": [
        {
          "output_type": "stream",
          "name": "stdout",
          "text": [
            "0.9474616292798111\n",
            "              precision    recall  f1-score   support\n",
            "\n",
            "           0       0.98      0.97      0.97      1527\n",
            "           1       0.71      0.78      0.74       167\n",
            "\n",
            "    accuracy                           0.95      1694\n",
            "   macro avg       0.84      0.87      0.86      1694\n",
            "weighted avg       0.95      0.95      0.95      1694\n",
            "\n"
          ]
        }
      ]
    },
    {
      "cell_type": "code",
      "source": [
        "plot_confusion_matrix(model_rf, df_test_pca, y_test)  \n",
        "plt.show()"
      ],
      "metadata": {
        "id": "XTyqwCT8Ftf0",
        "outputId": "8bf2915d-6b61-42e1-c0c7-7686e835cbd1",
        "colab": {
          "base_uri": "https://localhost:8080/",
          "height": 285
        }
      },
      "execution_count": null,
      "outputs": [
        {
          "output_type": "display_data",
          "data": {
            "text/plain": [
              "<Figure size 432x288 with 2 Axes>"
            ],
            "image/png": "[encoded data removed]"
          },
          "metadata": {}
        }
      ]
    },
    {
      "cell_type": "code",
      "source": [
        "model_GBC = GradientBoostingClassifier(n_estimators= 100)\n",
        "model_GBC.fit(df_train_pca,y_res)\n",
        "y_prd_g = model_GBC.predict(df_test_pca)\n",
        "score_Gbc = model_GBC.score(df_test_pca,y_test)\n",
        "print(score_Gbc)\n",
        "print(classification_report(y_test, y_prd_g))"
      ],
      "metadata": {
        "id": "tfUZBmEtF-1Y",
        "outputId": "13f21f78-7830-4212-c352-b81ab67351c8",
        "colab": {
          "base_uri": "https://localhost:8080/"
        }
      },
      "execution_count": null,
      "outputs": [
        {
          "output_type": "stream",
          "name": "stdout",
          "text": [
            "0.9451003541912633\n",
            "              precision    recall  f1-score   support\n",
            "\n",
            "           0       0.98      0.96      0.97      1527\n",
            "           1       0.68      0.85      0.75       167\n",
            "\n",
            "    accuracy                           0.95      1694\n",
            "   macro avg       0.83      0.90      0.86      1694\n",
            "weighted avg       0.95      0.95      0.95      1694\n",
            "\n"
          ]
        }
      ]
    },
    {
      "cell_type": "code",
      "source": [
        "plot_confusion_matrix(model_GBC, df_test_pca, y_test)  \n",
        "plt.show()"
      ],
      "metadata": {
        "id": "l-KCdtwxGR3X",
        "outputId": "f692a273-90da-4f40-8bcc-bbf63453876c",
        "colab": {
          "base_uri": "https://localhost:8080/",
          "height": 285
        }
      },
      "execution_count": null,
      "outputs": [
        {
          "output_type": "display_data",
          "data": {
            "text/plain": [
              "<Figure size 432x288 with 2 Axes>"
            ],
            "image/png": "[encoded data removed]"
          },
          "metadata": {}
        }
      ]
    },
    {
      "cell_type": "code",
      "source": [
        "model_Sc = StackingClassifier([('gradientbc',model_GBC),('SVM',logreg),('mlp',classifier)],final_estimator=AdaBoostClassifier())\n",
        "model_Sc.fit(df_train_pca,y_res)\n",
        "score_Sc = model_Sc.score(df_test_pca,y_test)\n",
        "y_prrd = model_Sc.predict(df_test_pca)\n",
        "print(classification_report(y_test, y_prrd))"
      ],
      "metadata": {
        "id": "x7HwPjQsGXoz",
        "outputId": "cf7f4be2-3d37-4e97-8087-406a9b98899d",
        "colab": {
          "base_uri": "https://localhost:8080/"
        }
      },
      "execution_count": null,
      "outputs": [
        {
          "output_type": "stream",
          "name": "stdout",
          "text": [
            "              precision    recall  f1-score   support\n",
            "\n",
            "           0       0.99      0.96      0.97      1527\n",
            "           1       0.71      0.87      0.78       167\n",
            "\n",
            "    accuracy                           0.95      1694\n",
            "   macro avg       0.85      0.91      0.88      1694\n",
            "weighted avg       0.96      0.95      0.95      1694\n",
            "\n"
          ]
        }
      ]
    },
    {
      "cell_type": "code",
      "source": [
        "plot_confusion_matrix(model_Sc, df_test_pca, y_test)  \n",
        "plt.show()"
      ],
      "metadata": {
        "colab": {
          "base_uri": "https://localhost:8080/",
          "height": 285
        },
        "id": "hg5mrMzaKzws",
        "outputId": "a263dd6e-d389-4158-9465-f81c9f7cdc7e"
      },
      "execution_count": null,
      "outputs": [
        {
          "output_type": "display_data",
          "data": {
            "text/plain": [
              "<Figure size 432x288 with 2 Axes>"
            ],
            "image/png": "[encoded data removed]"
          },
          "metadata": {}
        }
      ]
    }
  ],
  "metadata": {
    "colab": {
      "collapsed_sections": [],
      "name": "covid_with_oversampling&PCA.ipynb",
      "provenance": []
    },
    "kernelspec": {
      "display_name": "Python 3",
      "name": "python3"
    },
    "language_info": {
      "name": "python"
    },
    "accelerator": "GPU",
    "gpuClass": "standard"
  },
  "nbformat": 4,
  "nbformat_minor": 0
}