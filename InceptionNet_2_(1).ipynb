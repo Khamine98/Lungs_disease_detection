{
  "nbformat": 4,
  "nbformat_minor": 0,
  "metadata": {
    "colab": {
      "name": "InceptionNet_2 (1).ipynb",
      "provenance": []
    },
    "kernelspec": {
      "name": "python3",
      "display_name": "Python 3"
    },
    "language_info": {
      "name": "python"
    },
    "accelerator": "GPU"
  },
  "cells": [
    {
      "cell_type": "code",
      "execution_count": 1,
      "metadata": {
        "colab": {
          "base_uri": "https://localhost:8080/"
        },
        "id": "HGSKAdRGVsvJ",
        "outputId": "e2361440-98a4-4e34-98a2-19a5284971f5"
      },
      "outputs": [
        {
          "output_type": "stream",
          "name": "stdout",
          "text": [
            "Mounted at /content/drive\n"
          ]
        }
      ],
      "source": [
        "from google.colab import drive\n",
        "drive.mount('/content/drive')"
      ]
    },
    {
      "cell_type": "code",
      "execution_count": 2,
      "metadata": {
        "id": "_5VyI0OgtArk"
      },
      "outputs": [],
      "source": [
        "import matplotlib.pyplot as plt\n",
        "from keras.applications.densenet import DenseNet121, preprocess_input\n",
        "from keras.preprocessing.image import ImageDataGenerator\n",
        "from keras.applications.inception_v3 import InceptionV3\n",
        "from keras.layers import Input\n",
        "from keras.models import Model\n",
        "from keras.layers import Dense\n",
        "from tensorflow.keras.optimizers import Adam\n",
        "import keras\n",
        "from sklearn.metrics import confusion_matrix\n",
        "from sklearn.metrics import accuracy_score\n",
        "import seaborn as sns"
      ]
    },
    {
      "cell_type": "code",
      "source": [
        "image_size = 500\n",
        "batch_size = 32\n",
        "num_classes = 4\n",
        "epochs = 10"
      ],
      "metadata": {
        "id": "lNS5pgnCWERK"
      },
      "execution_count": 3,
      "outputs": []
    },
    {
      "cell_type": "code",
      "source": [
        "import os\n",
        "labels = os.listdir('/content/drive/MyDrive/lungs_data/cptn_dataset/Train/')\n",
        "print(labels)"
      ],
      "metadata": {
        "colab": {
          "base_uri": "https://localhost:8080/"
        },
        "id": "Fn9M61tPWIw-",
        "outputId": "351ada69-b4c8-4e2b-883b-aa69d8616279"
      },
      "execution_count": 4,
      "outputs": [
        {
          "output_type": "stream",
          "name": "stdout",
          "text": [
            "['Tb', 'Covid', 'Normal', 'Pneumonie']\n"
          ]
        }
      ]
    },
    {
      "cell_type": "code",
      "source": [
        "train_datagen = ImageDataGenerator(rescale=1./255 ,rotation_range=45,width_shift_range=0.2,\n",
        "                                   height_shift_range=0.2,horizontal_flip=True, vertical_flip=True,\n",
        "                                   shear_range=0.2,zoom_range=0.2,fill_mode='reflect', validation_split=0.2)\n",
        "train_data = train_datagen.flow_from_directory('/content/drive/MyDrive/lungs_data/Train/',\n",
        "                                               target_size=(image_size, image_size),\n",
        "                                               class_mode='categorical',\n",
        "                                               batch_size=batch_size,\n",
        "                                               shuffle=True\n",
        "                                              )\n",
        "validation_generator = train_datagen.flow_from_directory('/content/drive/MyDrive/lungs_data/Train/',target_size=(image_size,image_size),\n",
        "                                                         batch_size=batch_size,\n",
        "                                                         class_mode='categorical',\n",
        "                                                         subset='validation') \n",
        "test_datagen = ImageDataGenerator(rescale = 1./255)\n",
        "\n",
        "test_generator = test_datagen.flow_from_directory(\"/content/drive/MyDrive/lungs_data/cptn_dataset/Test/\",target_size=(image_size, image_size),\n",
        "                                                  batch_size=batch_size,\n",
        "                                                  class_mode='categorical')"
      ],
      "metadata": {
        "colab": {
          "base_uri": "https://localhost:8080/"
        },
        "id": "hy0Z3Z-NWLpG",
        "outputId": "b3ef534a-ab0e-4ecb-b22b-b8115ad6a3ff"
      },
      "execution_count": 9,
      "outputs": [
        {
          "output_type": "stream",
          "name": "stdout",
          "text": [
            "Found 9847 images belonging to 4 classes.\n",
            "Found 1969 images belonging to 4 classes.\n",
            "Found 2120 images belonging to 4 classes.\n"
          ]
        }
      ]
    },
    {
      "cell_type": "code",
      "source": [
        "valid_X, valid_Y = next(validation_generator)\n",
        "test_X, test_Y = next(test_generator)"
      ],
      "metadata": {
        "id": "BNQTOFZIWQfd"
      },
      "execution_count": null,
      "outputs": []
    },
    {
      "cell_type": "code",
      "source": [
        "#définition du model\n",
        "def inception_v3():\n",
        "    img_in = Input(t_x.shape[1:])               \n",
        "    model =  InceptionV3(include_top= False , \n",
        "                weights='imagenet',      \n",
        "                input_tensor= img_in, \n",
        "                input_shape= t_x.shape[1:],\n",
        "                pooling ='avg')\n",
        "    x = model.output  \n",
        "    predictions = Dense(4, activation=\"softmax\", name=\"predictions\")(x)    \n",
        "    model = Model(inputs=img_in, outputs=predictions)\n",
        "    return model"
      ],
      "metadata": {
        "id": "uumOF2RwWfYA"
      },
      "execution_count": null,
      "outputs": []
    },
    {
      "cell_type": "code",
      "source": [
        "#compilation du model\n",
        "model = inception_v3()\n",
        "model.compile(optimizer = 'adam', loss = 'categorical_crossentropy',\n",
        "                           metrics = ['accuracy'])"
      ],
      "metadata": {
        "id": "8u_m7qLhWmid"
      },
      "execution_count": null,
      "outputs": []
    },
    {
      "cell_type": "code",
      "source": [
        "#Entrainement du model\n",
        "history = model.fit_generator(train_generator, \n",
        "                                  steps_per_epoch=100,\n",
        "                                  validation_data = (valid_X,valid_Y), \n",
        "                                  epochs = 10)"
      ],
      "metadata": {
        "colab": {
          "base_uri": "https://localhost:8080/"
        },
        "id": "foZyuy-fWp5A",
        "outputId": "75370dcd-120f-40a7-860a-e4087fdbe6b5"
      },
      "execution_count": null,
      "outputs": [
        {
          "output_type": "stream",
          "name": "stderr",
          "text": [
            "/usr/local/lib/python3.7/dist-packages/ipykernel_launcher.py:4: UserWarning: `Model.fit_generator` is deprecated and will be removed in a future version. Please use `Model.fit`, which supports generators.\n",
            "  after removing the cwd from sys.path.\n"
          ]
        },
        {
          "output_type": "stream",
          "name": "stdout",
          "text": [
            "Epoch 1/10\n",
            "100/100 [==============================] - 74s 679ms/step - loss: 0.3509 - accuracy: 0.8752 - val_loss: 25.6397 - val_accuracy: 0.2188\n",
            "Epoch 2/10\n",
            "100/100 [==============================] - 67s 673ms/step - loss: 0.1835 - accuracy: 0.9359 - val_loss: 1.1091 - val_accuracy: 0.7500\n",
            "Epoch 3/10\n",
            "100/100 [==============================] - 67s 667ms/step - loss: 0.1176 - accuracy: 0.9604 - val_loss: 5.3386 - val_accuracy: 0.4062\n",
            "Epoch 4/10\n",
            "100/100 [==============================] - 67s 668ms/step - loss: 0.1082 - accuracy: 0.9635 - val_loss: 1.2008 - val_accuracy: 0.7812\n",
            "Epoch 5/10\n",
            "100/100 [==============================] - 68s 673ms/step - loss: 0.1154 - accuracy: 0.9613 - val_loss: 3.6868 - val_accuracy: 0.4375\n",
            "Epoch 6/10\n",
            "100/100 [==============================] - 67s 669ms/step - loss: 0.1094 - accuracy: 0.9648 - val_loss: 2.1757 - val_accuracy: 0.7500\n",
            "Epoch 7/10\n",
            "100/100 [==============================] - 67s 672ms/step - loss: 0.0711 - accuracy: 0.9750 - val_loss: 0.8884 - val_accuracy: 0.7812\n",
            "Epoch 8/10\n",
            "100/100 [==============================] - 67s 672ms/step - loss: 0.0643 - accuracy: 0.9800 - val_loss: 0.8616 - val_accuracy: 0.7812\n",
            "Epoch 9/10\n",
            "100/100 [==============================] - 67s 669ms/step - loss: 0.0556 - accuracy: 0.9799 - val_loss: 2.8645 - val_accuracy: 0.4375\n",
            "Epoch 10/10\n",
            "100/100 [==============================] - 67s 668ms/step - loss: 0.0738 - accuracy: 0.9701 - val_loss: 0.6835 - val_accuracy: 0.8125\n"
          ]
        }
      ]
    },
    {
      "cell_type": "code",
      "source": [
        "model.save(\"/content/drive/MyDrive/InceptionNet2.hdf5\")"
      ],
      "metadata": {
        "id": "HH_1Xf-VgpDQ"
      },
      "execution_count": null,
      "outputs": []
    },
    {
      "cell_type": "code",
      "source": [
        "#historique d'entrainement\n",
        "acc = history.history['accuracy']\n",
        "val_acc = history.history['val_accuracy']\n",
        "loss = history.history['loss']\n",
        "val_loss = history.history['val_loss']\n",
        "\n",
        "epochs = range(len(acc))\n",
        "\n",
        "plt.figure(figsize=(5,5))\n",
        "\n",
        "plt.plot(epochs, acc, 'r', label = 'Training accuracy')\n",
        "plt.plot(epochs, val_acc, 'b', label = 'Validation accuracy')\n",
        "plt.title('Training and validation accuracy')\n",
        "plt.legend()\n",
        "\n",
        "plt.figure(figsize = (5,5))\n",
        "\n",
        "plt.plot(epochs, loss, 'r', label = 'Training Loss')\n",
        "plt.plot(epochs, val_loss, 'b', label = 'Validation Loss')\n",
        "plt.title('Training and validation loss')\n",
        "plt.legend()\n",
        "\n",
        "plt.show()"
      ],
      "metadata": {
        "colab": {
          "base_uri": "https://localhost:8080/",
          "height": 655
        },
        "id": "3Wb9bCBlgwxO",
        "outputId": "f1bf70cd-3720-429b-e705-b0b18b286f71"
      },
      "execution_count": null,
      "outputs": [
        {
          "output_type": "display_data",
          "data": {
            "text/plain": [
              "<Figure size 360x360 with 1 Axes>"
            ],
            "image/png": "[encoded data removed]"
          },
          "metadata": {
            "needs_background": "light"
          }
        },
        {
          "output_type": "display_data",
          "data": {
            "text/plain": [
              "<Figure size 360x360 with 1 Axes>"
            ],
            "image/png": "[encoded data removed]"
          },
          "metadata": {
            "needs_background": "light"
          }
        }
      ]
    },
    {
      "cell_type": "code",
      "source": [
        "y_pred = model.predict(test_X)"
      ],
      "metadata": {
        "id": "V-y5CkGdg30P"
      },
      "execution_count": null,
      "outputs": []
    },
    {
      "cell_type": "code",
      "source": [
        "import numpy as np\n",
        "pred_class = []\n",
        "for i in range(len(y_pred)):\n",
        "    pred_class.append(np.argmax(y_pred[i]))\n",
        "\n",
        "actual_class = []\n",
        "for i in range(len(test_Y)):\n",
        "    actual_class.append(np.argmax(test_Y[i]))\n",
        "\n",
        "print('accuracy_score = ',accuracy_score(pred_class,actual_class))"
      ],
      "metadata": {
        "colab": {
          "base_uri": "https://localhost:8080/"
        },
        "id": "wTJ-ZGYJg8Zt",
        "outputId": "9e00122f-0f6b-4486-cddc-f3bfbb473c6e"
      },
      "execution_count": null,
      "outputs": [
        {
          "output_type": "stream",
          "name": "stdout",
          "text": [
            "accuracy_score =  0.90625\n"
          ]
        }
      ]
    },
    {
      "cell_type": "code",
      "source": [
        "score = model.evaluate_generator(test_generator,steps = test_generator.samples // 100) \n",
        "print(\"\\n\\n\")\n",
        "print('Test Loss:', score[0])\n",
        "print('Test accuracy:', score[1])"
      ],
      "metadata": {
        "colab": {
          "base_uri": "https://localhost:8080/"
        },
        "id": "E6G6VC8shAxM",
        "outputId": "2e463369-aedc-4481-ecf6-8561064a1401"
      },
      "execution_count": null,
      "outputs": [
        {
          "output_type": "stream",
          "name": "stderr",
          "text": [
            "/usr/local/lib/python3.7/dist-packages/ipykernel_launcher.py:1: UserWarning: `Model.evaluate_generator` is deprecated and will be removed in a future version. Please use `Model.evaluate`, which supports generators.\n",
            "  \"\"\"Entry point for launching an IPython kernel.\n"
          ]
        },
        {
          "output_type": "stream",
          "name": "stdout",
          "text": [
            "\n",
            "\n",
            "\n",
            "Test Loss: 0.04725559800863266\n",
            "Test accuracy: 0.9859374761581421\n"
          ]
        }
      ]
    },
    {
      "cell_type": "code",
      "source": [
        "pred_datagen = ImageDataGenerator(rescale = 1./255)\n",
        "\n",
        "pred_generator = pred_datagen.flow_from_directory('/content/drive/MyDrive/lungs_data/cptn_dataset/Test/',target_size=(image_size, image_size),\n",
        "                                                  batch_size=1,\n",
        "                                                  class_mode='categorical',\n",
        "                                                  shuffle = False)  "
      ],
      "metadata": {
        "colab": {
          "base_uri": "https://localhost:8080/"
        },
        "id": "9oaZUuoQvWoz",
        "outputId": "d90c5b65-9425-4a69-9cd5-ca9ccefb171f"
      },
      "execution_count": null,
      "outputs": [
        {
          "output_type": "stream",
          "name": "stdout",
          "text": [
            "Found 2034 images belonging to 4 classes.\n"
          ]
        }
      ]
    },
    {
      "cell_type": "code",
      "source": [
        "pred_generator.reset()\n",
        "y_pred = model.predict_generator(pred_generator)\n",
        "Y_test = pred_generator.classes[pred_generator.index_array]\n",
        "Y_pred = np.argmax(y_pred, axis=-1)"
      ],
      "metadata": {
        "colab": {
          "base_uri": "https://localhost:8080/"
        },
        "id": "FhfXjLxRvnxE",
        "outputId": "27e686be-5d09-4e9c-9891-4ae1da207eb4"
      },
      "execution_count": null,
      "outputs": [
        {
          "output_type": "stream",
          "name": "stderr",
          "text": [
            "/usr/local/lib/python3.7/dist-packages/ipykernel_launcher.py:2: UserWarning: `Model.predict_generator` is deprecated and will be removed in a future version. Please use `Model.predict`, which supports generators.\n",
            "  \n"
          ]
        }
      ]
    },
    {
      "cell_type": "code",
      "source": [
        "def plot_confusion_matrix(cm, classes,\n",
        "                          normalize=False,\n",
        "                          title='Confusion matrix',\n",
        "                          cmap=plt.cm.Blues):\n",
        "    if normalize:\n",
        "        cm = cm.astype('float') / cm.sum(axis=1)[:, np.newaxis]\n",
        "\n",
        "    plt.imshow(cm, interpolation='nearest', cmap=cmap)\n",
        "    plt.title(title)\n",
        "    plt.colorbar()\n",
        "    tick_marks = np.arange(len(classes))\n",
        "    plt.xticks(tick_marks, classes, rotation=90)\n",
        "    plt.yticks(tick_marks, classes)\n",
        "\n",
        "    fmt = '.2f' if normalize else 'd'\n",
        "    thresh = cm.max() / 2.\n",
        "    for i, j in itertools.product(range(cm.shape[0]), range(cm.shape[1])):\n",
        "        plt.text(j, i, format(cm[i, j], fmt),\n",
        "                 horizontalalignment=\"center\",\n",
        "                 color=\"white\" if cm[i, j] > thresh else \"black\")\n",
        "\n",
        "    plt.tight_layout()\n",
        "    plt.ylabel('True label')\n",
        "    plt.xlabel('Predicted label') "
      ],
      "metadata": {
        "id": "iFlHQoNcujnL"
      },
      "execution_count": null,
      "outputs": []
    },
    {
      "cell_type": "code",
      "source": [
        "import itertools\n",
        "cm = confusion_matrix(Y_test, Y_pred)\n",
        " \n",
        "print('--------------------')\n",
        "print('| Confusion Matrix |')\n",
        "print('--------------------')\n",
        "print('\\n {}'.format(cm))\n",
        "        \n",
        "# plot confusin matrix\n",
        "plt.figure(figsize=(8,8))\n",
        "plt.grid(b=False)\n",
        "plot_confusion_matrix(cm, classes=['Covid','Normal','Pneumonie','Tb'], normalize=False, \n",
        "                      title='Confusion matrix', cmap = plt.cm.Blues)\n",
        "plt.show()"
      ],
      "metadata": {
        "colab": {
          "base_uri": "https://localhost:8080/",
          "height": 713
        },
        "id": "YK4EJJKTvH_t",
        "outputId": "48c76019-59c4-4f88-bd50-fad3b8731615"
      },
      "execution_count": null,
      "outputs": [
        {
          "output_type": "stream",
          "name": "stdout",
          "text": [
            "--------------------\n",
            "| Confusion Matrix |\n",
            "--------------------\n",
            "\n",
            " [[541  11   0   0]\n",
            " [  3 548   7   0]\n",
            " [  2  24 550   0]\n",
            " [  0   0   0 348]]\n"
          ]
        },
        {
          "output_type": "display_data",
          "data": {
            "text/plain": [
              "<Figure size 576x576 with 2 Axes>"
            ],
            "image/png": "[encoded data removed]"
          },
          "metadata": {
            "needs_background": "light"
          }
        }
      ]
    }
  ]
}